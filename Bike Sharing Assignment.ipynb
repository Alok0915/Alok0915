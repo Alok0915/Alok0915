{
 "cells": [
  {
   "cell_type": "markdown",
   "metadata": {
    "papermill": {
     "duration": 0.076359,
     "end_time": "2020-10-07T04:56:27.821257",
     "exception": false,
     "start_time": "2020-10-07T04:56:27.744898",
     "status": "completed"
    },
    "tags": []
   },
   "source": [
    "## Importing Relevant Libraries"
   ]
  },
  {
   "cell_type": "code",
   "execution_count": 83,
   "metadata": {
    "execution": {
     "iopub.execute_input": "2020-10-07T04:56:27.988612Z",
     "iopub.status.busy": "2020-10-07T04:56:27.987778Z",
     "iopub.status.idle": "2020-10-07T04:56:27.991228Z",
     "shell.execute_reply": "2020-10-07T04:56:27.990383Z"
    },
    "papermill": {
     "duration": 0.088788,
     "end_time": "2020-10-07T04:56:27.991376",
     "exception": false,
     "start_time": "2020-10-07T04:56:27.902588",
     "status": "completed"
    },
    "tags": []
   },
   "outputs": [],
   "source": [
    "import warnings\n",
    "warnings.filterwarnings('always')\n",
    "warnings.filterwarnings('ignore')"
   ]
  },
  {
   "cell_type": "code",
   "execution_count": 84,
   "metadata": {
    "execution": {
     "iopub.execute_input": "2020-10-07T04:56:28.180435Z",
     "iopub.status.busy": "2020-10-07T04:56:28.179344Z",
     "iopub.status.idle": "2020-10-07T04:56:29.339876Z",
     "shell.execute_reply": "2020-10-07T04:56:29.339001Z"
    },
    "papermill": {
     "duration": 1.261925,
     "end_time": "2020-10-07T04:56:29.340029",
     "exception": false,
     "start_time": "2020-10-07T04:56:28.078104",
     "status": "completed"
    },
    "tags": []
   },
   "outputs": [],
   "source": [
    "import numpy as np\n",
    "import pandas as pd\n",
    "import matplotlib.pyplot as plt\n",
    "import seaborn as sns\n",
    "%matplotlib inline\n",
    "\n",
    "sns.set()"
   ]
  },
  {
   "cell_type": "markdown",
   "metadata": {
    "papermill": {
     "duration": 0.079379,
     "end_time": "2020-10-07T04:56:29.499569",
     "exception": false,
     "start_time": "2020-10-07T04:56:29.420190",
     "status": "completed"
    },
    "tags": []
   },
   "source": [
    "## Step 1: Reading and Understanding the Data"
   ]
  },
  {
   "cell_type": "code",
   "execution_count": 85,
   "metadata": {
    "execution": {
     "iopub.execute_input": "2020-10-07T04:56:29.667506Z",
     "iopub.status.busy": "2020-10-07T04:56:29.666205Z",
     "iopub.status.idle": "2020-10-07T04:56:29.683841Z",
     "shell.execute_reply": "2020-10-07T04:56:29.683124Z"
    },
    "papermill": {
     "duration": 0.104922,
     "end_time": "2020-10-07T04:56:29.684006",
     "exception": false,
     "start_time": "2020-10-07T04:56:29.579084",
     "status": "completed"
    },
    "tags": []
   },
   "outputs": [],
   "source": [
    "# Read the dataset\n",
    "\n",
    "bike= pd.read_csv(\"day.csv\")"
   ]
  },
  {
   "cell_type": "code",
   "execution_count": 86,
   "metadata": {
    "execution": {
     "iopub.execute_input": "2020-10-07T04:56:29.862309Z",
     "iopub.status.busy": "2020-10-07T04:56:29.861487Z",
     "iopub.status.idle": "2020-10-07T04:56:29.876863Z",
     "shell.execute_reply": "2020-10-07T04:56:29.877458Z"
    },
    "papermill": {
     "duration": 0.113574,
     "end_time": "2020-10-07T04:56:29.877651",
     "exception": false,
     "start_time": "2020-10-07T04:56:29.764077",
     "status": "completed"
    },
    "tags": []
   },
   "outputs": [
    {
     "data": {
      "text/html": [
       "<div>\n",
       "<style scoped>\n",
       "    .dataframe tbody tr th:only-of-type {\n",
       "        vertical-align: middle;\n",
       "    }\n",
       "\n",
       "    .dataframe tbody tr th {\n",
       "        vertical-align: top;\n",
       "    }\n",
       "\n",
       "    .dataframe thead th {\n",
       "        text-align: right;\n",
       "    }\n",
       "</style>\n",
       "<table border=\"1\" class=\"dataframe\">\n",
       "  <thead>\n",
       "    <tr style=\"text-align: right;\">\n",
       "      <th></th>\n",
       "      <th>instant</th>\n",
       "      <th>dteday</th>\n",
       "      <th>season</th>\n",
       "      <th>yr</th>\n",
       "      <th>mnth</th>\n",
       "      <th>holiday</th>\n",
       "      <th>weekday</th>\n",
       "      <th>workingday</th>\n",
       "      <th>weathersit</th>\n",
       "      <th>temp</th>\n",
       "      <th>atemp</th>\n",
       "      <th>hum</th>\n",
       "      <th>windspeed</th>\n",
       "      <th>casual</th>\n",
       "      <th>registered</th>\n",
       "      <th>cnt</th>\n",
       "    </tr>\n",
       "  </thead>\n",
       "  <tbody>\n",
       "    <tr>\n",
       "      <th>0</th>\n",
       "      <td>1</td>\n",
       "      <td>01-01-2018</td>\n",
       "      <td>1</td>\n",
       "      <td>0</td>\n",
       "      <td>1</td>\n",
       "      <td>0</td>\n",
       "      <td>1</td>\n",
       "      <td>1</td>\n",
       "      <td>2</td>\n",
       "      <td>14.110847</td>\n",
       "      <td>18.18125</td>\n",
       "      <td>80.5833</td>\n",
       "      <td>10.749882</td>\n",
       "      <td>331</td>\n",
       "      <td>654</td>\n",
       "      <td>985</td>\n",
       "    </tr>\n",
       "    <tr>\n",
       "      <th>1</th>\n",
       "      <td>2</td>\n",
       "      <td>02-01-2018</td>\n",
       "      <td>1</td>\n",
       "      <td>0</td>\n",
       "      <td>1</td>\n",
       "      <td>0</td>\n",
       "      <td>2</td>\n",
       "      <td>1</td>\n",
       "      <td>2</td>\n",
       "      <td>14.902598</td>\n",
       "      <td>17.68695</td>\n",
       "      <td>69.6087</td>\n",
       "      <td>16.652113</td>\n",
       "      <td>131</td>\n",
       "      <td>670</td>\n",
       "      <td>801</td>\n",
       "    </tr>\n",
       "    <tr>\n",
       "      <th>2</th>\n",
       "      <td>3</td>\n",
       "      <td>03-01-2018</td>\n",
       "      <td>1</td>\n",
       "      <td>0</td>\n",
       "      <td>1</td>\n",
       "      <td>0</td>\n",
       "      <td>3</td>\n",
       "      <td>1</td>\n",
       "      <td>1</td>\n",
       "      <td>8.050924</td>\n",
       "      <td>9.47025</td>\n",
       "      <td>43.7273</td>\n",
       "      <td>16.636703</td>\n",
       "      <td>120</td>\n",
       "      <td>1229</td>\n",
       "      <td>1349</td>\n",
       "    </tr>\n",
       "    <tr>\n",
       "      <th>3</th>\n",
       "      <td>4</td>\n",
       "      <td>04-01-2018</td>\n",
       "      <td>1</td>\n",
       "      <td>0</td>\n",
       "      <td>1</td>\n",
       "      <td>0</td>\n",
       "      <td>4</td>\n",
       "      <td>1</td>\n",
       "      <td>1</td>\n",
       "      <td>8.200000</td>\n",
       "      <td>10.60610</td>\n",
       "      <td>59.0435</td>\n",
       "      <td>10.739832</td>\n",
       "      <td>108</td>\n",
       "      <td>1454</td>\n",
       "      <td>1562</td>\n",
       "    </tr>\n",
       "    <tr>\n",
       "      <th>4</th>\n",
       "      <td>5</td>\n",
       "      <td>05-01-2018</td>\n",
       "      <td>1</td>\n",
       "      <td>0</td>\n",
       "      <td>1</td>\n",
       "      <td>0</td>\n",
       "      <td>5</td>\n",
       "      <td>1</td>\n",
       "      <td>1</td>\n",
       "      <td>9.305237</td>\n",
       "      <td>11.46350</td>\n",
       "      <td>43.6957</td>\n",
       "      <td>12.522300</td>\n",
       "      <td>82</td>\n",
       "      <td>1518</td>\n",
       "      <td>1600</td>\n",
       "    </tr>\n",
       "  </tbody>\n",
       "</table>\n",
       "</div>"
      ],
      "text/plain": [
       "   instant      dteday  season  yr  mnth  holiday  weekday  workingday  \\\n",
       "0        1  01-01-2018       1   0     1        0        1           1   \n",
       "1        2  02-01-2018       1   0     1        0        2           1   \n",
       "2        3  03-01-2018       1   0     1        0        3           1   \n",
       "3        4  04-01-2018       1   0     1        0        4           1   \n",
       "4        5  05-01-2018       1   0     1        0        5           1   \n",
       "\n",
       "   weathersit       temp     atemp      hum  windspeed  casual  registered  \\\n",
       "0           2  14.110847  18.18125  80.5833  10.749882     331         654   \n",
       "1           2  14.902598  17.68695  69.6087  16.652113     131         670   \n",
       "2           1   8.050924   9.47025  43.7273  16.636703     120        1229   \n",
       "3           1   8.200000  10.60610  59.0435  10.739832     108        1454   \n",
       "4           1   9.305237  11.46350  43.6957  12.522300      82        1518   \n",
       "\n",
       "    cnt  \n",
       "0   985  \n",
       "1   801  \n",
       "2  1349  \n",
       "3  1562  \n",
       "4  1600  "
      ]
     },
     "execution_count": 86,
     "metadata": {},
     "output_type": "execute_result"
    }
   ],
   "source": [
    "# Let's see how our dataset looks like\n",
    "\n",
    "bike.head()"
   ]
  },
  {
   "cell_type": "code",
   "execution_count": 87,
   "metadata": {
    "execution": {
     "iopub.execute_input": "2020-10-07T04:56:30.046428Z",
     "iopub.status.busy": "2020-10-07T04:56:30.045593Z",
     "iopub.status.idle": "2020-10-07T04:56:30.051832Z",
     "shell.execute_reply": "2020-10-07T04:56:30.051011Z"
    },
    "papermill": {
     "duration": 0.093505,
     "end_time": "2020-10-07T04:56:30.052035",
     "exception": false,
     "start_time": "2020-10-07T04:56:29.958530",
     "status": "completed"
    },
    "tags": []
   },
   "outputs": [
    {
     "data": {
      "text/plain": [
       "(730, 16)"
      ]
     },
     "execution_count": 87,
     "metadata": {},
     "output_type": "execute_result"
    }
   ],
   "source": [
    "# Let's see how many rows and columns we have\n",
    "\n",
    "bike.shape"
   ]
  },
  {
   "cell_type": "code",
   "execution_count": 88,
   "metadata": {
    "execution": {
     "iopub.execute_input": "2020-10-07T04:56:30.269973Z",
     "iopub.status.busy": "2020-10-07T04:56:30.268811Z",
     "iopub.status.idle": "2020-10-07T04:56:30.274338Z",
     "shell.execute_reply": "2020-10-07T04:56:30.275197Z"
    },
    "papermill": {
     "duration": 0.138986,
     "end_time": "2020-10-07T04:56:30.275440",
     "exception": false,
     "start_time": "2020-10-07T04:56:30.136454",
     "status": "completed"
    },
    "tags": []
   },
   "outputs": [
    {
     "name": "stdout",
     "output_type": "stream",
     "text": [
      "<class 'pandas.core.frame.DataFrame'>\n",
      "RangeIndex: 730 entries, 0 to 729\n",
      "Data columns (total 16 columns):\n",
      " #   Column      Non-Null Count  Dtype  \n",
      "---  ------      --------------  -----  \n",
      " 0   instant     730 non-null    int64  \n",
      " 1   dteday      730 non-null    object \n",
      " 2   season      730 non-null    int64  \n",
      " 3   yr          730 non-null    int64  \n",
      " 4   mnth        730 non-null    int64  \n",
      " 5   holiday     730 non-null    int64  \n",
      " 6   weekday     730 non-null    int64  \n",
      " 7   workingday  730 non-null    int64  \n",
      " 8   weathersit  730 non-null    int64  \n",
      " 9   temp        730 non-null    float64\n",
      " 10  atemp       730 non-null    float64\n",
      " 11  hum         730 non-null    float64\n",
      " 12  windspeed   730 non-null    float64\n",
      " 13  casual      730 non-null    int64  \n",
      " 14  registered  730 non-null    int64  \n",
      " 15  cnt         730 non-null    int64  \n",
      "dtypes: float64(4), int64(11), object(1)\n",
      "memory usage: 91.4+ KB\n"
     ]
    }
   ],
   "source": [
    "#Let's get some information on the dataset\n",
    "\n",
    "bike.info()"
   ]
  },
  {
   "cell_type": "code",
   "execution_count": 89,
   "metadata": {
    "execution": {
     "iopub.execute_input": "2020-10-07T04:56:30.463281Z",
     "iopub.status.busy": "2020-10-07T04:56:30.462525Z",
     "iopub.status.idle": "2020-10-07T04:56:30.527279Z",
     "shell.execute_reply": "2020-10-07T04:56:30.527943Z"
    },
    "papermill": {
     "duration": 0.161986,
     "end_time": "2020-10-07T04:56:30.528124",
     "exception": false,
     "start_time": "2020-10-07T04:56:30.366138",
     "status": "completed"
    },
    "tags": []
   },
   "outputs": [
    {
     "data": {
      "text/html": [
       "<div>\n",
       "<style scoped>\n",
       "    .dataframe tbody tr th:only-of-type {\n",
       "        vertical-align: middle;\n",
       "    }\n",
       "\n",
       "    .dataframe tbody tr th {\n",
       "        vertical-align: top;\n",
       "    }\n",
       "\n",
       "    .dataframe thead th {\n",
       "        text-align: right;\n",
       "    }\n",
       "</style>\n",
       "<table border=\"1\" class=\"dataframe\">\n",
       "  <thead>\n",
       "    <tr style=\"text-align: right;\">\n",
       "      <th></th>\n",
       "      <th>instant</th>\n",
       "      <th>season</th>\n",
       "      <th>yr</th>\n",
       "      <th>mnth</th>\n",
       "      <th>holiday</th>\n",
       "      <th>weekday</th>\n",
       "      <th>workingday</th>\n",
       "      <th>weathersit</th>\n",
       "      <th>temp</th>\n",
       "      <th>atemp</th>\n",
       "      <th>hum</th>\n",
       "      <th>windspeed</th>\n",
       "      <th>casual</th>\n",
       "      <th>registered</th>\n",
       "      <th>cnt</th>\n",
       "    </tr>\n",
       "  </thead>\n",
       "  <tbody>\n",
       "    <tr>\n",
       "      <th>count</th>\n",
       "      <td>730.000000</td>\n",
       "      <td>730.000000</td>\n",
       "      <td>730.000000</td>\n",
       "      <td>730.000000</td>\n",
       "      <td>730.000000</td>\n",
       "      <td>730.000000</td>\n",
       "      <td>730.000000</td>\n",
       "      <td>730.000000</td>\n",
       "      <td>730.000000</td>\n",
       "      <td>730.000000</td>\n",
       "      <td>730.000000</td>\n",
       "      <td>730.000000</td>\n",
       "      <td>730.000000</td>\n",
       "      <td>730.000000</td>\n",
       "      <td>730.000000</td>\n",
       "    </tr>\n",
       "    <tr>\n",
       "      <th>mean</th>\n",
       "      <td>365.500000</td>\n",
       "      <td>2.498630</td>\n",
       "      <td>0.500000</td>\n",
       "      <td>6.526027</td>\n",
       "      <td>0.028767</td>\n",
       "      <td>2.995890</td>\n",
       "      <td>0.690411</td>\n",
       "      <td>1.394521</td>\n",
       "      <td>20.319259</td>\n",
       "      <td>23.726322</td>\n",
       "      <td>62.765175</td>\n",
       "      <td>12.763620</td>\n",
       "      <td>849.249315</td>\n",
       "      <td>3658.757534</td>\n",
       "      <td>4508.006849</td>\n",
       "    </tr>\n",
       "    <tr>\n",
       "      <th>std</th>\n",
       "      <td>210.877136</td>\n",
       "      <td>1.110184</td>\n",
       "      <td>0.500343</td>\n",
       "      <td>3.450215</td>\n",
       "      <td>0.167266</td>\n",
       "      <td>2.000339</td>\n",
       "      <td>0.462641</td>\n",
       "      <td>0.544807</td>\n",
       "      <td>7.506729</td>\n",
       "      <td>8.150308</td>\n",
       "      <td>14.237589</td>\n",
       "      <td>5.195841</td>\n",
       "      <td>686.479875</td>\n",
       "      <td>1559.758728</td>\n",
       "      <td>1936.011647</td>\n",
       "    </tr>\n",
       "    <tr>\n",
       "      <th>min</th>\n",
       "      <td>1.000000</td>\n",
       "      <td>1.000000</td>\n",
       "      <td>0.000000</td>\n",
       "      <td>1.000000</td>\n",
       "      <td>0.000000</td>\n",
       "      <td>0.000000</td>\n",
       "      <td>0.000000</td>\n",
       "      <td>1.000000</td>\n",
       "      <td>2.424346</td>\n",
       "      <td>3.953480</td>\n",
       "      <td>0.000000</td>\n",
       "      <td>1.500244</td>\n",
       "      <td>2.000000</td>\n",
       "      <td>20.000000</td>\n",
       "      <td>22.000000</td>\n",
       "    </tr>\n",
       "    <tr>\n",
       "      <th>25%</th>\n",
       "      <td>183.250000</td>\n",
       "      <td>2.000000</td>\n",
       "      <td>0.000000</td>\n",
       "      <td>4.000000</td>\n",
       "      <td>0.000000</td>\n",
       "      <td>1.000000</td>\n",
       "      <td>0.000000</td>\n",
       "      <td>1.000000</td>\n",
       "      <td>13.811885</td>\n",
       "      <td>16.889713</td>\n",
       "      <td>52.000000</td>\n",
       "      <td>9.041650</td>\n",
       "      <td>316.250000</td>\n",
       "      <td>2502.250000</td>\n",
       "      <td>3169.750000</td>\n",
       "    </tr>\n",
       "    <tr>\n",
       "      <th>50%</th>\n",
       "      <td>365.500000</td>\n",
       "      <td>3.000000</td>\n",
       "      <td>0.500000</td>\n",
       "      <td>7.000000</td>\n",
       "      <td>0.000000</td>\n",
       "      <td>3.000000</td>\n",
       "      <td>1.000000</td>\n",
       "      <td>1.000000</td>\n",
       "      <td>20.465826</td>\n",
       "      <td>24.368225</td>\n",
       "      <td>62.625000</td>\n",
       "      <td>12.125325</td>\n",
       "      <td>717.000000</td>\n",
       "      <td>3664.500000</td>\n",
       "      <td>4548.500000</td>\n",
       "    </tr>\n",
       "    <tr>\n",
       "      <th>75%</th>\n",
       "      <td>547.750000</td>\n",
       "      <td>3.000000</td>\n",
       "      <td>1.000000</td>\n",
       "      <td>10.000000</td>\n",
       "      <td>0.000000</td>\n",
       "      <td>5.000000</td>\n",
       "      <td>1.000000</td>\n",
       "      <td>2.000000</td>\n",
       "      <td>26.880615</td>\n",
       "      <td>30.445775</td>\n",
       "      <td>72.989575</td>\n",
       "      <td>15.625589</td>\n",
       "      <td>1096.500000</td>\n",
       "      <td>4783.250000</td>\n",
       "      <td>5966.000000</td>\n",
       "    </tr>\n",
       "    <tr>\n",
       "      <th>max</th>\n",
       "      <td>730.000000</td>\n",
       "      <td>4.000000</td>\n",
       "      <td>1.000000</td>\n",
       "      <td>12.000000</td>\n",
       "      <td>1.000000</td>\n",
       "      <td>6.000000</td>\n",
       "      <td>1.000000</td>\n",
       "      <td>3.000000</td>\n",
       "      <td>35.328347</td>\n",
       "      <td>42.044800</td>\n",
       "      <td>97.250000</td>\n",
       "      <td>34.000021</td>\n",
       "      <td>3410.000000</td>\n",
       "      <td>6946.000000</td>\n",
       "      <td>8714.000000</td>\n",
       "    </tr>\n",
       "  </tbody>\n",
       "</table>\n",
       "</div>"
      ],
      "text/plain": [
       "          instant      season          yr        mnth     holiday     weekday  \\\n",
       "count  730.000000  730.000000  730.000000  730.000000  730.000000  730.000000   \n",
       "mean   365.500000    2.498630    0.500000    6.526027    0.028767    2.995890   \n",
       "std    210.877136    1.110184    0.500343    3.450215    0.167266    2.000339   \n",
       "min      1.000000    1.000000    0.000000    1.000000    0.000000    0.000000   \n",
       "25%    183.250000    2.000000    0.000000    4.000000    0.000000    1.000000   \n",
       "50%    365.500000    3.000000    0.500000    7.000000    0.000000    3.000000   \n",
       "75%    547.750000    3.000000    1.000000   10.000000    0.000000    5.000000   \n",
       "max    730.000000    4.000000    1.000000   12.000000    1.000000    6.000000   \n",
       "\n",
       "       workingday  weathersit        temp       atemp         hum   windspeed  \\\n",
       "count  730.000000  730.000000  730.000000  730.000000  730.000000  730.000000   \n",
       "mean     0.690411    1.394521   20.319259   23.726322   62.765175   12.763620   \n",
       "std      0.462641    0.544807    7.506729    8.150308   14.237589    5.195841   \n",
       "min      0.000000    1.000000    2.424346    3.953480    0.000000    1.500244   \n",
       "25%      0.000000    1.000000   13.811885   16.889713   52.000000    9.041650   \n",
       "50%      1.000000    1.000000   20.465826   24.368225   62.625000   12.125325   \n",
       "75%      1.000000    2.000000   26.880615   30.445775   72.989575   15.625589   \n",
       "max      1.000000    3.000000   35.328347   42.044800   97.250000   34.000021   \n",
       "\n",
       "            casual   registered          cnt  \n",
       "count   730.000000   730.000000   730.000000  \n",
       "mean    849.249315  3658.757534  4508.006849  \n",
       "std     686.479875  1559.758728  1936.011647  \n",
       "min       2.000000    20.000000    22.000000  \n",
       "25%     316.250000  2502.250000  3169.750000  \n",
       "50%     717.000000  3664.500000  4548.500000  \n",
       "75%    1096.500000  4783.250000  5966.000000  \n",
       "max    3410.000000  6946.000000  8714.000000  "
      ]
     },
     "execution_count": 89,
     "metadata": {},
     "output_type": "execute_result"
    }
   ],
   "source": [
    "# Let's see some summary\n",
    "\n",
    "bike.describe()"
   ]
  },
  {
   "cell_type": "markdown",
   "metadata": {
    "papermill": {
     "duration": 0.081784,
     "end_time": "2020-10-07T04:56:30.692938",
     "exception": false,
     "start_time": "2020-10-07T04:56:30.611154",
     "status": "completed"
    },
    "tags": []
   },
   "source": [
    "### Missing Values"
   ]
  },
  {
   "cell_type": "code",
   "execution_count": 90,
   "metadata": {
    "execution": {
     "iopub.execute_input": "2020-10-07T04:56:30.863860Z",
     "iopub.status.busy": "2020-10-07T04:56:30.863025Z",
     "iopub.status.idle": "2020-10-07T04:56:31.440817Z",
     "shell.execute_reply": "2020-10-07T04:56:31.440074Z"
    },
    "papermill": {
     "duration": 0.665328,
     "end_time": "2020-10-07T04:56:31.440943",
     "exception": false,
     "start_time": "2020-10-07T04:56:30.775615",
     "status": "completed"
    },
    "tags": []
   },
   "outputs": [
    {
     "data": {
      "text/plain": [
       "instant       0\n",
       "dteday        0\n",
       "season        0\n",
       "yr            0\n",
       "mnth          0\n",
       "holiday       0\n",
       "weekday       0\n",
       "workingday    0\n",
       "weathersit    0\n",
       "temp          0\n",
       "atemp         0\n",
       "hum           0\n",
       "windspeed     0\n",
       "casual        0\n",
       "registered    0\n",
       "cnt           0\n",
       "dtype: int64"
      ]
     },
     "execution_count": 90,
     "metadata": {},
     "output_type": "execute_result"
    }
   ],
   "source": [
    "# To check if there are any missing values in the dataset\n",
    "\n",
    "bike.isnull().sum()"
   ]
  },
  {
   "cell_type": "markdown",
   "metadata": {
    "papermill": {
     "duration": 0.084445,
     "end_time": "2020-10-07T04:56:31.610085",
     "exception": false,
     "start_time": "2020-10-07T04:56:31.525640",
     "status": "completed"
    },
    "tags": []
   },
   "source": [
    "### There are no missing values in the dataset"
   ]
  },
  {
   "cell_type": "code",
   "execution_count": 91,
   "metadata": {
    "execution": {
     "iopub.execute_input": "2020-10-07T04:56:31.788092Z",
     "iopub.status.busy": "2020-10-07T04:56:31.787067Z",
     "iopub.status.idle": "2020-10-07T04:56:31.791244Z",
     "shell.execute_reply": "2020-10-07T04:56:31.791901Z"
    },
    "papermill": {
     "duration": 0.096752,
     "end_time": "2020-10-07T04:56:31.792089",
     "exception": false,
     "start_time": "2020-10-07T04:56:31.695337",
     "status": "completed"
    },
    "tags": []
   },
   "outputs": [
    {
     "data": {
      "text/plain": [
       "dtype('O')"
      ]
     },
     "execution_count": 91,
     "metadata": {},
     "output_type": "execute_result"
    }
   ],
   "source": [
    "#Checking data types:\n",
    "\n",
    "bike['dteday'].dtype"
   ]
  },
  {
   "cell_type": "markdown",
   "metadata": {
    "papermill": {
     "duration": 0.086152,
     "end_time": "2020-10-07T04:56:31.965173",
     "exception": false,
     "start_time": "2020-10-07T04:56:31.879021",
     "status": "completed"
    },
    "tags": []
   },
   "source": [
    "### Let's convert the datatype of dteday column to datetime."
   ]
  },
  {
   "cell_type": "code",
   "execution_count": 92,
   "metadata": {
    "execution": {
     "iopub.execute_input": "2020-10-07T04:56:32.154366Z",
     "iopub.status.busy": "2020-10-07T04:56:32.153405Z",
     "iopub.status.idle": "2020-10-07T04:56:32.158756Z",
     "shell.execute_reply": "2020-10-07T04:56:32.157925Z"
    },
    "papermill": {
     "duration": 0.106747,
     "end_time": "2020-10-07T04:56:32.158916",
     "exception": false,
     "start_time": "2020-10-07T04:56:32.052169",
     "status": "completed"
    },
    "tags": []
   },
   "outputs": [
    {
     "data": {
      "text/plain": [
       "dtype('<M8[ns]')"
      ]
     },
     "execution_count": 92,
     "metadata": {},
     "output_type": "execute_result"
    }
   ],
   "source": [
    "bike['dteday'] =  pd.to_datetime(bike['dteday'],format='%d-%m-%Y')\n",
    "bike['dteday'].dtype"
   ]
  },
  {
   "cell_type": "markdown",
   "metadata": {
    "papermill": {
     "duration": 0.085657,
     "end_time": "2020-10-07T04:56:32.331702",
     "exception": false,
     "start_time": "2020-10-07T04:56:32.246045",
     "status": "completed"
    },
    "tags": []
   },
   "source": [
    "### Extracting the Year and Month from the Date"
   ]
  },
  {
   "cell_type": "code",
   "execution_count": 93,
   "metadata": {
    "execution": {
     "iopub.execute_input": "2020-10-07T04:56:32.509970Z",
     "iopub.status.busy": "2020-10-07T04:56:32.508433Z",
     "iopub.status.idle": "2020-10-07T04:56:32.515617Z",
     "shell.execute_reply": "2020-10-07T04:56:32.514798Z"
    },
    "papermill": {
     "duration": 0.098831,
     "end_time": "2020-10-07T04:56:32.515776",
     "exception": false,
     "start_time": "2020-10-07T04:56:32.416945",
     "status": "completed"
    },
    "tags": []
   },
   "outputs": [],
   "source": [
    "bike['year'] = pd.DatetimeIndex(bike['dteday']).year\n",
    "bike['month'] = pd.DatetimeIndex(bike['dteday']).month"
   ]
  },
  {
   "cell_type": "code",
   "execution_count": 94,
   "metadata": {
    "execution": {
     "iopub.execute_input": "2020-10-07T04:56:32.713666Z",
     "iopub.status.busy": "2020-10-07T04:56:32.704171Z",
     "iopub.status.idle": "2020-10-07T04:56:32.720015Z",
     "shell.execute_reply": "2020-10-07T04:56:32.719281Z"
    },
    "papermill": {
     "duration": 0.11601,
     "end_time": "2020-10-07T04:56:32.720167",
     "exception": false,
     "start_time": "2020-10-07T04:56:32.604157",
     "status": "completed"
    },
    "tags": []
   },
   "outputs": [
    {
     "data": {
      "text/html": [
       "<div>\n",
       "<style scoped>\n",
       "    .dataframe tbody tr th:only-of-type {\n",
       "        vertical-align: middle;\n",
       "    }\n",
       "\n",
       "    .dataframe tbody tr th {\n",
       "        vertical-align: top;\n",
       "    }\n",
       "\n",
       "    .dataframe thead th {\n",
       "        text-align: right;\n",
       "    }\n",
       "</style>\n",
       "<table border=\"1\" class=\"dataframe\">\n",
       "  <thead>\n",
       "    <tr style=\"text-align: right;\">\n",
       "      <th></th>\n",
       "      <th>instant</th>\n",
       "      <th>dteday</th>\n",
       "      <th>season</th>\n",
       "      <th>yr</th>\n",
       "      <th>mnth</th>\n",
       "      <th>holiday</th>\n",
       "      <th>weekday</th>\n",
       "      <th>workingday</th>\n",
       "      <th>weathersit</th>\n",
       "      <th>temp</th>\n",
       "      <th>atemp</th>\n",
       "      <th>hum</th>\n",
       "      <th>windspeed</th>\n",
       "      <th>casual</th>\n",
       "      <th>registered</th>\n",
       "      <th>cnt</th>\n",
       "      <th>year</th>\n",
       "      <th>month</th>\n",
       "    </tr>\n",
       "  </thead>\n",
       "  <tbody>\n",
       "    <tr>\n",
       "      <th>0</th>\n",
       "      <td>1</td>\n",
       "      <td>2018-01-01</td>\n",
       "      <td>1</td>\n",
       "      <td>0</td>\n",
       "      <td>1</td>\n",
       "      <td>0</td>\n",
       "      <td>1</td>\n",
       "      <td>1</td>\n",
       "      <td>2</td>\n",
       "      <td>14.110847</td>\n",
       "      <td>18.18125</td>\n",
       "      <td>80.5833</td>\n",
       "      <td>10.749882</td>\n",
       "      <td>331</td>\n",
       "      <td>654</td>\n",
       "      <td>985</td>\n",
       "      <td>2018</td>\n",
       "      <td>1</td>\n",
       "    </tr>\n",
       "    <tr>\n",
       "      <th>1</th>\n",
       "      <td>2</td>\n",
       "      <td>2018-01-02</td>\n",
       "      <td>1</td>\n",
       "      <td>0</td>\n",
       "      <td>1</td>\n",
       "      <td>0</td>\n",
       "      <td>2</td>\n",
       "      <td>1</td>\n",
       "      <td>2</td>\n",
       "      <td>14.902598</td>\n",
       "      <td>17.68695</td>\n",
       "      <td>69.6087</td>\n",
       "      <td>16.652113</td>\n",
       "      <td>131</td>\n",
       "      <td>670</td>\n",
       "      <td>801</td>\n",
       "      <td>2018</td>\n",
       "      <td>1</td>\n",
       "    </tr>\n",
       "    <tr>\n",
       "      <th>2</th>\n",
       "      <td>3</td>\n",
       "      <td>2018-01-03</td>\n",
       "      <td>1</td>\n",
       "      <td>0</td>\n",
       "      <td>1</td>\n",
       "      <td>0</td>\n",
       "      <td>3</td>\n",
       "      <td>1</td>\n",
       "      <td>1</td>\n",
       "      <td>8.050924</td>\n",
       "      <td>9.47025</td>\n",
       "      <td>43.7273</td>\n",
       "      <td>16.636703</td>\n",
       "      <td>120</td>\n",
       "      <td>1229</td>\n",
       "      <td>1349</td>\n",
       "      <td>2018</td>\n",
       "      <td>1</td>\n",
       "    </tr>\n",
       "    <tr>\n",
       "      <th>3</th>\n",
       "      <td>4</td>\n",
       "      <td>2018-01-04</td>\n",
       "      <td>1</td>\n",
       "      <td>0</td>\n",
       "      <td>1</td>\n",
       "      <td>0</td>\n",
       "      <td>4</td>\n",
       "      <td>1</td>\n",
       "      <td>1</td>\n",
       "      <td>8.200000</td>\n",
       "      <td>10.60610</td>\n",
       "      <td>59.0435</td>\n",
       "      <td>10.739832</td>\n",
       "      <td>108</td>\n",
       "      <td>1454</td>\n",
       "      <td>1562</td>\n",
       "      <td>2018</td>\n",
       "      <td>1</td>\n",
       "    </tr>\n",
       "    <tr>\n",
       "      <th>4</th>\n",
       "      <td>5</td>\n",
       "      <td>2018-01-05</td>\n",
       "      <td>1</td>\n",
       "      <td>0</td>\n",
       "      <td>1</td>\n",
       "      <td>0</td>\n",
       "      <td>5</td>\n",
       "      <td>1</td>\n",
       "      <td>1</td>\n",
       "      <td>9.305237</td>\n",
       "      <td>11.46350</td>\n",
       "      <td>43.6957</td>\n",
       "      <td>12.522300</td>\n",
       "      <td>82</td>\n",
       "      <td>1518</td>\n",
       "      <td>1600</td>\n",
       "      <td>2018</td>\n",
       "      <td>1</td>\n",
       "    </tr>\n",
       "  </tbody>\n",
       "</table>\n",
       "</div>"
      ],
      "text/plain": [
       "   instant     dteday  season  yr  mnth  holiday  weekday  workingday  \\\n",
       "0        1 2018-01-01       1   0     1        0        1           1   \n",
       "1        2 2018-01-02       1   0     1        0        2           1   \n",
       "2        3 2018-01-03       1   0     1        0        3           1   \n",
       "3        4 2018-01-04       1   0     1        0        4           1   \n",
       "4        5 2018-01-05       1   0     1        0        5           1   \n",
       "\n",
       "   weathersit       temp     atemp      hum  windspeed  casual  registered  \\\n",
       "0           2  14.110847  18.18125  80.5833  10.749882     331         654   \n",
       "1           2  14.902598  17.68695  69.6087  16.652113     131         670   \n",
       "2           1   8.050924   9.47025  43.7273  16.636703     120        1229   \n",
       "3           1   8.200000  10.60610  59.0435  10.739832     108        1454   \n",
       "4           1   9.305237  11.46350  43.6957  12.522300      82        1518   \n",
       "\n",
       "    cnt  year  month  \n",
       "0   985  2018      1  \n",
       "1   801  2018      1  \n",
       "2  1349  2018      1  \n",
       "3  1562  2018      1  \n",
       "4  1600  2018      1  "
      ]
     },
     "execution_count": 94,
     "metadata": {},
     "output_type": "execute_result"
    }
   ],
   "source": [
    "bike.head()"
   ]
  },
  {
   "cell_type": "code",
   "execution_count": 95,
   "metadata": {
    "execution": {
     "iopub.execute_input": "2020-10-07T04:56:32.906057Z",
     "iopub.status.busy": "2020-10-07T04:56:32.902063Z",
     "iopub.status.idle": "2020-10-07T04:56:32.910015Z",
     "shell.execute_reply": "2020-10-07T04:56:32.909165Z"
    },
    "papermill": {
     "duration": 0.101895,
     "end_time": "2020-10-07T04:56:32.910151",
     "exception": false,
     "start_time": "2020-10-07T04:56:32.808256",
     "status": "completed"
    },
    "tags": []
   },
   "outputs": [],
   "source": [
    "# Dropping the columns as we have extracte#d the correct year and month from the date.\n",
    "\n",
    "bike.drop(['yr','mnth'],axis=1,inplace=True)"
   ]
  },
  {
   "cell_type": "code",
   "execution_count": 96,
   "metadata": {
    "execution": {
     "iopub.execute_input": "2020-10-07T04:56:33.110266Z",
     "iopub.status.busy": "2020-10-07T04:56:33.109362Z",
     "iopub.status.idle": "2020-10-07T04:56:33.114595Z",
     "shell.execute_reply": "2020-10-07T04:56:33.113932Z"
    },
    "papermill": {
     "duration": 0.114476,
     "end_time": "2020-10-07T04:56:33.114725",
     "exception": false,
     "start_time": "2020-10-07T04:56:33.000249",
     "status": "completed"
    },
    "tags": []
   },
   "outputs": [
    {
     "data": {
      "text/html": [
       "<div>\n",
       "<style scoped>\n",
       "    .dataframe tbody tr th:only-of-type {\n",
       "        vertical-align: middle;\n",
       "    }\n",
       "\n",
       "    .dataframe tbody tr th {\n",
       "        vertical-align: top;\n",
       "    }\n",
       "\n",
       "    .dataframe thead th {\n",
       "        text-align: right;\n",
       "    }\n",
       "</style>\n",
       "<table border=\"1\" class=\"dataframe\">\n",
       "  <thead>\n",
       "    <tr style=\"text-align: right;\">\n",
       "      <th></th>\n",
       "      <th>instant</th>\n",
       "      <th>dteday</th>\n",
       "      <th>season</th>\n",
       "      <th>holiday</th>\n",
       "      <th>weekday</th>\n",
       "      <th>workingday</th>\n",
       "      <th>weathersit</th>\n",
       "      <th>temp</th>\n",
       "      <th>atemp</th>\n",
       "      <th>hum</th>\n",
       "      <th>windspeed</th>\n",
       "      <th>casual</th>\n",
       "      <th>registered</th>\n",
       "      <th>cnt</th>\n",
       "      <th>year</th>\n",
       "      <th>month</th>\n",
       "    </tr>\n",
       "  </thead>\n",
       "  <tbody>\n",
       "    <tr>\n",
       "      <th>0</th>\n",
       "      <td>1</td>\n",
       "      <td>2018-01-01</td>\n",
       "      <td>1</td>\n",
       "      <td>0</td>\n",
       "      <td>1</td>\n",
       "      <td>1</td>\n",
       "      <td>2</td>\n",
       "      <td>14.110847</td>\n",
       "      <td>18.18125</td>\n",
       "      <td>80.5833</td>\n",
       "      <td>10.749882</td>\n",
       "      <td>331</td>\n",
       "      <td>654</td>\n",
       "      <td>985</td>\n",
       "      <td>2018</td>\n",
       "      <td>1</td>\n",
       "    </tr>\n",
       "    <tr>\n",
       "      <th>1</th>\n",
       "      <td>2</td>\n",
       "      <td>2018-01-02</td>\n",
       "      <td>1</td>\n",
       "      <td>0</td>\n",
       "      <td>2</td>\n",
       "      <td>1</td>\n",
       "      <td>2</td>\n",
       "      <td>14.902598</td>\n",
       "      <td>17.68695</td>\n",
       "      <td>69.6087</td>\n",
       "      <td>16.652113</td>\n",
       "      <td>131</td>\n",
       "      <td>670</td>\n",
       "      <td>801</td>\n",
       "      <td>2018</td>\n",
       "      <td>1</td>\n",
       "    </tr>\n",
       "    <tr>\n",
       "      <th>2</th>\n",
       "      <td>3</td>\n",
       "      <td>2018-01-03</td>\n",
       "      <td>1</td>\n",
       "      <td>0</td>\n",
       "      <td>3</td>\n",
       "      <td>1</td>\n",
       "      <td>1</td>\n",
       "      <td>8.050924</td>\n",
       "      <td>9.47025</td>\n",
       "      <td>43.7273</td>\n",
       "      <td>16.636703</td>\n",
       "      <td>120</td>\n",
       "      <td>1229</td>\n",
       "      <td>1349</td>\n",
       "      <td>2018</td>\n",
       "      <td>1</td>\n",
       "    </tr>\n",
       "    <tr>\n",
       "      <th>3</th>\n",
       "      <td>4</td>\n",
       "      <td>2018-01-04</td>\n",
       "      <td>1</td>\n",
       "      <td>0</td>\n",
       "      <td>4</td>\n",
       "      <td>1</td>\n",
       "      <td>1</td>\n",
       "      <td>8.200000</td>\n",
       "      <td>10.60610</td>\n",
       "      <td>59.0435</td>\n",
       "      <td>10.739832</td>\n",
       "      <td>108</td>\n",
       "      <td>1454</td>\n",
       "      <td>1562</td>\n",
       "      <td>2018</td>\n",
       "      <td>1</td>\n",
       "    </tr>\n",
       "    <tr>\n",
       "      <th>4</th>\n",
       "      <td>5</td>\n",
       "      <td>2018-01-05</td>\n",
       "      <td>1</td>\n",
       "      <td>0</td>\n",
       "      <td>5</td>\n",
       "      <td>1</td>\n",
       "      <td>1</td>\n",
       "      <td>9.305237</td>\n",
       "      <td>11.46350</td>\n",
       "      <td>43.6957</td>\n",
       "      <td>12.522300</td>\n",
       "      <td>82</td>\n",
       "      <td>1518</td>\n",
       "      <td>1600</td>\n",
       "      <td>2018</td>\n",
       "      <td>1</td>\n",
       "    </tr>\n",
       "  </tbody>\n",
       "</table>\n",
       "</div>"
      ],
      "text/plain": [
       "   instant     dteday  season  holiday  weekday  workingday  weathersit  \\\n",
       "0        1 2018-01-01       1        0        1           1           2   \n",
       "1        2 2018-01-02       1        0        2           1           2   \n",
       "2        3 2018-01-03       1        0        3           1           1   \n",
       "3        4 2018-01-04       1        0        4           1           1   \n",
       "4        5 2018-01-05       1        0        5           1           1   \n",
       "\n",
       "        temp     atemp      hum  windspeed  casual  registered   cnt  year  \\\n",
       "0  14.110847  18.18125  80.5833  10.749882     331         654   985  2018   \n",
       "1  14.902598  17.68695  69.6087  16.652113     131         670   801  2018   \n",
       "2   8.050924   9.47025  43.7273  16.636703     120        1229  1349  2018   \n",
       "3   8.200000  10.60610  59.0435  10.739832     108        1454  1562  2018   \n",
       "4   9.305237  11.46350  43.6957  12.522300      82        1518  1600  2018   \n",
       "\n",
       "   month  \n",
       "0      1  \n",
       "1      1  \n",
       "2      1  \n",
       "3      1  \n",
       "4      1  "
      ]
     },
     "execution_count": 96,
     "metadata": {},
     "output_type": "execute_result"
    }
   ],
   "source": [
    "bike.head()"
   ]
  },
  {
   "cell_type": "code",
   "execution_count": 97,
   "metadata": {
    "execution": {
     "iopub.execute_input": "2020-10-07T04:56:33.302051Z",
     "iopub.status.busy": "2020-10-07T04:56:33.300988Z",
     "iopub.status.idle": "2020-10-07T04:56:33.305176Z",
     "shell.execute_reply": "2020-10-07T04:56:33.304377Z"
    },
    "papermill": {
     "duration": 0.101196,
     "end_time": "2020-10-07T04:56:33.305323",
     "exception": false,
     "start_time": "2020-10-07T04:56:33.204127",
     "status": "completed"
    },
    "tags": []
   },
   "outputs": [],
   "source": [
    "#Dropping the redundant variable holiday as the workingday column covers enough information that is required.\n",
    "\n",
    "bike.drop('holiday',axis=1,inplace=True)"
   ]
  },
  {
   "cell_type": "code",
   "execution_count": 98,
   "metadata": {
    "execution": {
     "iopub.execute_input": "2020-10-07T04:56:33.493668Z",
     "iopub.status.busy": "2020-10-07T04:56:33.492589Z",
     "iopub.status.idle": "2020-10-07T04:56:33.496514Z",
     "shell.execute_reply": "2020-10-07T04:56:33.495836Z"
    },
    "papermill": {
     "duration": 0.100827,
     "end_time": "2020-10-07T04:56:33.496650",
     "exception": false,
     "start_time": "2020-10-07T04:56:33.395823",
     "status": "completed"
    },
    "tags": []
   },
   "outputs": [],
   "source": [
    "# Dropping the dteday,instant,casual and registered columns.\n",
    "\n",
    "bike.drop(['dteday','instant','casual','registered'],axis=1,inplace=True)"
   ]
  },
  {
   "cell_type": "code",
   "execution_count": 99,
   "metadata": {
    "execution": {
     "iopub.execute_input": "2020-10-07T04:56:33.690875Z",
     "iopub.status.busy": "2020-10-07T04:56:33.689825Z",
     "iopub.status.idle": "2020-10-07T04:56:33.695815Z",
     "shell.execute_reply": "2020-10-07T04:56:33.695019Z"
    },
    "papermill": {
     "duration": 0.11123,
     "end_time": "2020-10-07T04:56:33.695952",
     "exception": false,
     "start_time": "2020-10-07T04:56:33.584722",
     "status": "completed"
    },
    "tags": []
   },
   "outputs": [
    {
     "data": {
      "text/html": [
       "<div>\n",
       "<style scoped>\n",
       "    .dataframe tbody tr th:only-of-type {\n",
       "        vertical-align: middle;\n",
       "    }\n",
       "\n",
       "    .dataframe tbody tr th {\n",
       "        vertical-align: top;\n",
       "    }\n",
       "\n",
       "    .dataframe thead th {\n",
       "        text-align: right;\n",
       "    }\n",
       "</style>\n",
       "<table border=\"1\" class=\"dataframe\">\n",
       "  <thead>\n",
       "    <tr style=\"text-align: right;\">\n",
       "      <th></th>\n",
       "      <th>season</th>\n",
       "      <th>weekday</th>\n",
       "      <th>workingday</th>\n",
       "      <th>weathersit</th>\n",
       "      <th>temp</th>\n",
       "      <th>atemp</th>\n",
       "      <th>hum</th>\n",
       "      <th>windspeed</th>\n",
       "      <th>cnt</th>\n",
       "      <th>year</th>\n",
       "      <th>month</th>\n",
       "    </tr>\n",
       "  </thead>\n",
       "  <tbody>\n",
       "    <tr>\n",
       "      <th>0</th>\n",
       "      <td>1</td>\n",
       "      <td>1</td>\n",
       "      <td>1</td>\n",
       "      <td>2</td>\n",
       "      <td>14.110847</td>\n",
       "      <td>18.18125</td>\n",
       "      <td>80.5833</td>\n",
       "      <td>10.749882</td>\n",
       "      <td>985</td>\n",
       "      <td>2018</td>\n",
       "      <td>1</td>\n",
       "    </tr>\n",
       "    <tr>\n",
       "      <th>1</th>\n",
       "      <td>1</td>\n",
       "      <td>2</td>\n",
       "      <td>1</td>\n",
       "      <td>2</td>\n",
       "      <td>14.902598</td>\n",
       "      <td>17.68695</td>\n",
       "      <td>69.6087</td>\n",
       "      <td>16.652113</td>\n",
       "      <td>801</td>\n",
       "      <td>2018</td>\n",
       "      <td>1</td>\n",
       "    </tr>\n",
       "    <tr>\n",
       "      <th>2</th>\n",
       "      <td>1</td>\n",
       "      <td>3</td>\n",
       "      <td>1</td>\n",
       "      <td>1</td>\n",
       "      <td>8.050924</td>\n",
       "      <td>9.47025</td>\n",
       "      <td>43.7273</td>\n",
       "      <td>16.636703</td>\n",
       "      <td>1349</td>\n",
       "      <td>2018</td>\n",
       "      <td>1</td>\n",
       "    </tr>\n",
       "    <tr>\n",
       "      <th>3</th>\n",
       "      <td>1</td>\n",
       "      <td>4</td>\n",
       "      <td>1</td>\n",
       "      <td>1</td>\n",
       "      <td>8.200000</td>\n",
       "      <td>10.60610</td>\n",
       "      <td>59.0435</td>\n",
       "      <td>10.739832</td>\n",
       "      <td>1562</td>\n",
       "      <td>2018</td>\n",
       "      <td>1</td>\n",
       "    </tr>\n",
       "    <tr>\n",
       "      <th>4</th>\n",
       "      <td>1</td>\n",
       "      <td>5</td>\n",
       "      <td>1</td>\n",
       "      <td>1</td>\n",
       "      <td>9.305237</td>\n",
       "      <td>11.46350</td>\n",
       "      <td>43.6957</td>\n",
       "      <td>12.522300</td>\n",
       "      <td>1600</td>\n",
       "      <td>2018</td>\n",
       "      <td>1</td>\n",
       "    </tr>\n",
       "  </tbody>\n",
       "</table>\n",
       "</div>"
      ],
      "text/plain": [
       "   season  weekday  workingday  weathersit       temp     atemp      hum  \\\n",
       "0       1        1           1           2  14.110847  18.18125  80.5833   \n",
       "1       1        2           1           2  14.902598  17.68695  69.6087   \n",
       "2       1        3           1           1   8.050924   9.47025  43.7273   \n",
       "3       1        4           1           1   8.200000  10.60610  59.0435   \n",
       "4       1        5           1           1   9.305237  11.46350  43.6957   \n",
       "\n",
       "   windspeed   cnt  year  month  \n",
       "0  10.749882   985  2018      1  \n",
       "1  16.652113   801  2018      1  \n",
       "2  16.636703  1349  2018      1  \n",
       "3  10.739832  1562  2018      1  \n",
       "4  12.522300  1600  2018      1  "
      ]
     },
     "execution_count": 99,
     "metadata": {},
     "output_type": "execute_result"
    }
   ],
   "source": [
    "bike.head()"
   ]
  },
  {
   "cell_type": "code",
   "execution_count": 100,
   "metadata": {
    "execution": {
     "iopub.execute_input": "2020-10-07T04:56:33.883954Z",
     "iopub.status.busy": "2020-10-07T04:56:33.883112Z",
     "iopub.status.idle": "2020-10-07T04:56:33.886187Z",
     "shell.execute_reply": "2020-10-07T04:56:33.885584Z"
    },
    "papermill": {
     "duration": 0.102746,
     "end_time": "2020-10-07T04:56:33.886305",
     "exception": false,
     "start_time": "2020-10-07T04:56:33.783559",
     "status": "completed"
    },
    "tags": []
   },
   "outputs": [],
   "source": [
    "# Renaming some columns for better understanding\n",
    "\n",
    "bike.rename(columns={'hum':'humidity','cnt':'count'},inplace=True)"
   ]
  },
  {
   "cell_type": "code",
   "execution_count": 101,
   "metadata": {
    "execution": {
     "iopub.execute_input": "2020-10-07T04:56:34.085080Z",
     "iopub.status.busy": "2020-10-07T04:56:34.084169Z",
     "iopub.status.idle": "2020-10-07T04:56:34.090368Z",
     "shell.execute_reply": "2020-10-07T04:56:34.089584Z"
    },
    "papermill": {
     "duration": 0.116479,
     "end_time": "2020-10-07T04:56:34.090545",
     "exception": false,
     "start_time": "2020-10-07T04:56:33.974066",
     "status": "completed"
    },
    "tags": []
   },
   "outputs": [
    {
     "data": {
      "text/html": [
       "<div>\n",
       "<style scoped>\n",
       "    .dataframe tbody tr th:only-of-type {\n",
       "        vertical-align: middle;\n",
       "    }\n",
       "\n",
       "    .dataframe tbody tr th {\n",
       "        vertical-align: top;\n",
       "    }\n",
       "\n",
       "    .dataframe thead th {\n",
       "        text-align: right;\n",
       "    }\n",
       "</style>\n",
       "<table border=\"1\" class=\"dataframe\">\n",
       "  <thead>\n",
       "    <tr style=\"text-align: right;\">\n",
       "      <th></th>\n",
       "      <th>season</th>\n",
       "      <th>weekday</th>\n",
       "      <th>workingday</th>\n",
       "      <th>weathersit</th>\n",
       "      <th>temp</th>\n",
       "      <th>atemp</th>\n",
       "      <th>humidity</th>\n",
       "      <th>windspeed</th>\n",
       "      <th>count</th>\n",
       "      <th>year</th>\n",
       "      <th>month</th>\n",
       "    </tr>\n",
       "  </thead>\n",
       "  <tbody>\n",
       "    <tr>\n",
       "      <th>0</th>\n",
       "      <td>1</td>\n",
       "      <td>1</td>\n",
       "      <td>1</td>\n",
       "      <td>2</td>\n",
       "      <td>14.110847</td>\n",
       "      <td>18.18125</td>\n",
       "      <td>80.5833</td>\n",
       "      <td>10.749882</td>\n",
       "      <td>985</td>\n",
       "      <td>2018</td>\n",
       "      <td>1</td>\n",
       "    </tr>\n",
       "    <tr>\n",
       "      <th>1</th>\n",
       "      <td>1</td>\n",
       "      <td>2</td>\n",
       "      <td>1</td>\n",
       "      <td>2</td>\n",
       "      <td>14.902598</td>\n",
       "      <td>17.68695</td>\n",
       "      <td>69.6087</td>\n",
       "      <td>16.652113</td>\n",
       "      <td>801</td>\n",
       "      <td>2018</td>\n",
       "      <td>1</td>\n",
       "    </tr>\n",
       "    <tr>\n",
       "      <th>2</th>\n",
       "      <td>1</td>\n",
       "      <td>3</td>\n",
       "      <td>1</td>\n",
       "      <td>1</td>\n",
       "      <td>8.050924</td>\n",
       "      <td>9.47025</td>\n",
       "      <td>43.7273</td>\n",
       "      <td>16.636703</td>\n",
       "      <td>1349</td>\n",
       "      <td>2018</td>\n",
       "      <td>1</td>\n",
       "    </tr>\n",
       "    <tr>\n",
       "      <th>3</th>\n",
       "      <td>1</td>\n",
       "      <td>4</td>\n",
       "      <td>1</td>\n",
       "      <td>1</td>\n",
       "      <td>8.200000</td>\n",
       "      <td>10.60610</td>\n",
       "      <td>59.0435</td>\n",
       "      <td>10.739832</td>\n",
       "      <td>1562</td>\n",
       "      <td>2018</td>\n",
       "      <td>1</td>\n",
       "    </tr>\n",
       "    <tr>\n",
       "      <th>4</th>\n",
       "      <td>1</td>\n",
       "      <td>5</td>\n",
       "      <td>1</td>\n",
       "      <td>1</td>\n",
       "      <td>9.305237</td>\n",
       "      <td>11.46350</td>\n",
       "      <td>43.6957</td>\n",
       "      <td>12.522300</td>\n",
       "      <td>1600</td>\n",
       "      <td>2018</td>\n",
       "      <td>1</td>\n",
       "    </tr>\n",
       "  </tbody>\n",
       "</table>\n",
       "</div>"
      ],
      "text/plain": [
       "   season  weekday  workingday  weathersit       temp     atemp  humidity  \\\n",
       "0       1        1           1           2  14.110847  18.18125   80.5833   \n",
       "1       1        2           1           2  14.902598  17.68695   69.6087   \n",
       "2       1        3           1           1   8.050924   9.47025   43.7273   \n",
       "3       1        4           1           1   8.200000  10.60610   59.0435   \n",
       "4       1        5           1           1   9.305237  11.46350   43.6957   \n",
       "\n",
       "   windspeed  count  year  month  \n",
       "0  10.749882    985  2018      1  \n",
       "1  16.652113    801  2018      1  \n",
       "2  16.636703   1349  2018      1  \n",
       "3  10.739832   1562  2018      1  \n",
       "4  12.522300   1600  2018      1  "
      ]
     },
     "execution_count": 101,
     "metadata": {},
     "output_type": "execute_result"
    }
   ],
   "source": [
    "bike.head()"
   ]
  },
  {
   "cell_type": "markdown",
   "metadata": {
    "papermill": {
     "duration": 0.090718,
     "end_time": "2020-10-07T04:56:34.270844",
     "exception": false,
     "start_time": "2020-10-07T04:56:34.180126",
     "status": "completed"
    },
    "tags": []
   },
   "source": [
    "## Step 2: Encoding the Labels & Visualization"
   ]
  },
  {
   "cell_type": "markdown",
   "metadata": {
    "papermill": {
     "duration": 0.087991,
     "end_time": "2020-10-07T04:56:34.447907",
     "exception": false,
     "start_time": "2020-10-07T04:56:34.359916",
     "status": "completed"
    },
    "tags": []
   },
   "source": [
    "## **1) season**\n",
    "\n",
    "* 1:spring\n",
    "* 2:summer\n",
    "* 3:fall\n",
    "* 4:winter"
   ]
  },
  {
   "cell_type": "code",
   "execution_count": 102,
   "metadata": {
    "execution": {
     "iopub.execute_input": "2020-10-07T04:56:34.633248Z",
     "iopub.status.busy": "2020-10-07T04:56:34.632214Z",
     "iopub.status.idle": "2020-10-07T04:56:34.635781Z",
     "shell.execute_reply": "2020-10-07T04:56:34.635096Z"
    },
    "papermill": {
     "duration": 0.100026,
     "end_time": "2020-10-07T04:56:34.635931",
     "exception": false,
     "start_time": "2020-10-07T04:56:34.535905",
     "status": "completed"
    },
    "tags": []
   },
   "outputs": [],
   "source": [
    "codes = {1:'spring',2:'summer',3:'fall',4:'winter'}\n",
    "bike['season'] = bike['season'].map(codes)"
   ]
  },
  {
   "cell_type": "code",
   "execution_count": 103,
   "metadata": {
    "execution": {
     "iopub.execute_input": "2020-10-07T04:56:34.831322Z",
     "iopub.status.busy": "2020-10-07T04:56:34.830259Z",
     "iopub.status.idle": "2020-10-07T04:56:35.176915Z",
     "shell.execute_reply": "2020-10-07T04:56:35.176213Z"
    },
    "papermill": {
     "duration": 0.451153,
     "end_time": "2020-10-07T04:56:35.177047",
     "exception": false,
     "start_time": "2020-10-07T04:56:34.725894",
     "status": "completed"
    },
    "tags": []
   },
   "outputs": [
    {
     "data": {
      "text/plain": [
       "<matplotlib.axes._subplots.AxesSubplot at 0x156ed63fa90>"
      ]
     },
     "execution_count": 103,
     "metadata": {},
     "output_type": "execute_result"
    },
    {
     "data": {
      "image/png": "[encoded data removed]",
      "text/plain": [
       "<Figure size 432x288 with 1 Axes>"
      ]
     },
     "metadata": {},
     "output_type": "display_data"
    }
   ],
   "source": [
    "sns.barplot('season','count',data=bike)"
   ]
  },
  {
   "cell_type": "markdown",
   "metadata": {
    "papermill": {
     "duration": 0.089867,
     "end_time": "2020-10-07T04:56:35.356857",
     "exception": false,
     "start_time": "2020-10-07T04:56:35.266990",
     "status": "completed"
    },
    "tags": []
   },
   "source": [
    "### Bike Rentals are more during the Fall(Monsoon) season."
   ]
  },
  {
   "cell_type": "markdown",
   "metadata": {
    "papermill": {
     "duration": 0.088903,
     "end_time": "2020-10-07T04:56:35.535423",
     "exception": false,
     "start_time": "2020-10-07T04:56:35.446520",
     "status": "completed"
    },
    "tags": []
   },
   "source": [
    "## **2) weathersit**\n",
    "\n",
    "* 1: Clear, Few clouds, Partly cloudy, Partly cloudy\n",
    "* 2: Mist + Cloudy, Mist + Broken clouds, Mist + Few clouds, Mist\n",
    "* 3: Light Snow, Light Rain + Thunderstorm + Scattered clouds, Light Rain + Scattered clouds\n",
    "* 4: Heavy Rain + Ice Pallets + Thunderstorm + Mist, Snow + Fog"
   ]
  },
  {
   "cell_type": "code",
   "execution_count": 104,
   "metadata": {
    "execution": {
     "iopub.execute_input": "2020-10-07T04:56:35.724057Z",
     "iopub.status.busy": "2020-10-07T04:56:35.723220Z",
     "iopub.status.idle": "2020-10-07T04:56:35.728041Z",
     "shell.execute_reply": "2020-10-07T04:56:35.727163Z"
    },
    "papermill": {
     "duration": 0.103025,
     "end_time": "2020-10-07T04:56:35.728198",
     "exception": false,
     "start_time": "2020-10-07T04:56:35.625173",
     "status": "completed"
    },
    "tags": []
   },
   "outputs": [],
   "source": [
    "codes = {1:'Clear',2:'Mist',3:'Light Snow',4:'Heavy Rain'}\n",
    "bike['weathersit'] = bike['weathersit'].map(codes)"
   ]
  },
  {
   "cell_type": "code",
   "execution_count": 105,
   "metadata": {
    "execution": {
     "iopub.execute_input": "2020-10-07T04:56:35.993609Z",
     "iopub.status.busy": "2020-10-07T04:56:35.988304Z",
     "iopub.status.idle": "2020-10-07T04:56:36.272382Z",
     "shell.execute_reply": "2020-10-07T04:56:36.271611Z"
    },
    "papermill": {
     "duration": 0.382122,
     "end_time": "2020-10-07T04:56:36.272548",
     "exception": false,
     "start_time": "2020-10-07T04:56:35.890426",
     "status": "completed"
    },
    "tags": []
   },
   "outputs": [
    {
     "data": {
      "text/plain": [
       "<matplotlib.axes._subplots.AxesSubplot at 0x156ed626940>"
      ]
     },
     "execution_count": 105,
     "metadata": {},
     "output_type": "execute_result"
    },
    {
     "data": {
      "image/png": "[encoded data removed]",
      "text/plain": [
       "<Figure size 432x288 with 1 Axes>"
      ]
     },
     "metadata": {},
     "output_type": "display_data"
    }
   ],
   "source": [
    "sns.barplot('weathersit','count',data=bike)"
   ]
  },
  {
   "cell_type": "markdown",
   "metadata": {
    "papermill": {
     "duration": 0.091615,
     "end_time": "2020-10-07T04:56:36.457311",
     "exception": false,
     "start_time": "2020-10-07T04:56:36.365696",
     "status": "completed"
    },
    "tags": []
   },
   "source": [
    "### Bikes seem to be rented more in Partly cloudy weather."
   ]
  },
  {
   "cell_type": "markdown",
   "metadata": {
    "papermill": {
     "duration": 0.091487,
     "end_time": "2020-10-07T04:56:36.640877",
     "exception": false,
     "start_time": "2020-10-07T04:56:36.549390",
     "status": "completed"
    },
    "tags": []
   },
   "source": [
    "## **3) workingday**\n",
    "\n",
    "* if day is neither weekend nor holiday is 1,\n",
    "* otherwise is 0"
   ]
  },
  {
   "cell_type": "code",
   "execution_count": 106,
   "metadata": {
    "execution": {
     "iopub.execute_input": "2020-10-07T04:56:36.833200Z",
     "iopub.status.busy": "2020-10-07T04:56:36.832361Z",
     "iopub.status.idle": "2020-10-07T04:56:36.836396Z",
     "shell.execute_reply": "2020-10-07T04:56:36.835724Z"
    },
    "papermill": {
     "duration": 0.103859,
     "end_time": "2020-10-07T04:56:36.836579",
     "exception": false,
     "start_time": "2020-10-07T04:56:36.732720",
     "status": "completed"
    },
    "tags": []
   },
   "outputs": [],
   "source": [
    "codes = {1:'working_day',0:'Holiday'}\n",
    "bike['workingday'] = bike['workingday'].map(codes)"
   ]
  },
  {
   "cell_type": "code",
   "execution_count": 107,
   "metadata": {
    "execution": {
     "iopub.execute_input": "2020-10-07T04:56:37.032546Z",
     "iopub.status.busy": "2020-10-07T04:56:37.031766Z",
     "iopub.status.idle": "2020-10-07T04:56:37.269396Z",
     "shell.execute_reply": "2020-10-07T04:56:37.268693Z"
    },
    "papermill": {
     "duration": 0.339504,
     "end_time": "2020-10-07T04:56:37.269559",
     "exception": false,
     "start_time": "2020-10-07T04:56:36.930055",
     "status": "completed"
    },
    "tags": []
   },
   "outputs": [
    {
     "data": {
      "text/plain": [
       "<matplotlib.axes._subplots.AxesSubplot at 0x156ed858250>"
      ]
     },
     "execution_count": 107,
     "metadata": {},
     "output_type": "execute_result"
    },
    {
     "data": {
      "image/png": "[encoded data removed]",
      "text/plain": [
       "<Figure size 432x288 with 1 Axes>"
      ]
     },
     "metadata": {},
     "output_type": "display_data"
    }
   ],
   "source": [
    "sns.barplot('workingday','count',data=bike,palette='cool')"
   ]
  },
  {
   "cell_type": "markdown",
   "metadata": {
    "papermill": {
     "duration": 0.093278,
     "end_time": "2020-10-07T04:56:37.457424",
     "exception": false,
     "start_time": "2020-10-07T04:56:37.364146",
     "status": "completed"
    },
    "tags": []
   },
   "source": [
    "### Bikes seem to be rented more on working days."
   ]
  },
  {
   "cell_type": "markdown",
   "metadata": {
    "papermill": {
     "duration": 0.092689,
     "end_time": "2020-10-07T04:56:37.642645",
     "exception": false,
     "start_time": "2020-10-07T04:56:37.549956",
     "status": "completed"
    },
    "tags": []
   },
   "source": [
    "## **4) year**\n",
    "\n",
    "* 2018:0\n",
    "* 2019:1"
   ]
  },
  {
   "cell_type": "code",
   "execution_count": 108,
   "metadata": {
    "execution": {
     "iopub.execute_input": "2020-10-07T04:56:37.839715Z",
     "iopub.status.busy": "2020-10-07T04:56:37.838919Z",
     "iopub.status.idle": "2020-10-07T04:56:37.841294Z",
     "shell.execute_reply": "2020-10-07T04:56:37.841917Z"
    },
    "papermill": {
     "duration": 0.104843,
     "end_time": "2020-10-07T04:56:37.842093",
     "exception": false,
     "start_time": "2020-10-07T04:56:37.737250",
     "status": "completed"
    },
    "tags": []
   },
   "outputs": [],
   "source": [
    "codes = {2019:1,2018:0}\n",
    "bike['year'] = bike['year'].map(codes)"
   ]
  },
  {
   "cell_type": "code",
   "execution_count": 109,
   "metadata": {
    "execution": {
     "iopub.execute_input": "2020-10-07T04:56:38.047698Z",
     "iopub.status.busy": "2020-10-07T04:56:38.046814Z",
     "iopub.status.idle": "2020-10-07T04:56:38.280079Z",
     "shell.execute_reply": "2020-10-07T04:56:38.279398Z"
    },
    "papermill": {
     "duration": 0.339587,
     "end_time": "2020-10-07T04:56:38.280228",
     "exception": false,
     "start_time": "2020-10-07T04:56:37.940641",
     "status": "completed"
    },
    "tags": []
   },
   "outputs": [
    {
     "data": {
      "text/plain": [
       "<matplotlib.axes._subplots.AxesSubplot at 0x156ed8f7d90>"
      ]
     },
     "execution_count": 109,
     "metadata": {},
     "output_type": "execute_result"
    },
    {
     "data": {
      "image/png": "[encoded data removed]",
      "text/plain": [
       "<Figure size 432x288 with 1 Axes>"
      ]
     },
     "metadata": {},
     "output_type": "display_data"
    }
   ],
   "source": [
    "sns.barplot('year','count',data=bike,palette='dark')"
   ]
  },
  {
   "cell_type": "markdown",
   "metadata": {
    "papermill": {
     "duration": 0.096698,
     "end_time": "2020-10-07T04:56:38.473001",
     "exception": false,
     "start_time": "2020-10-07T04:56:38.376303",
     "status": "completed"
    },
    "tags": []
   },
   "source": [
    "### Bike Rental popularity has increased in 2019 when compared to 2018."
   ]
  },
  {
   "cell_type": "markdown",
   "metadata": {
    "papermill": {
     "duration": 0.094786,
     "end_time": "2020-10-07T04:56:38.662728",
     "exception": false,
     "start_time": "2020-10-07T04:56:38.567942",
     "status": "completed"
    },
    "tags": []
   },
   "source": [
    "## **5) Month**\n",
    "\n",
    "* 1:Jan\n",
    "* 2:Feb\n",
    "* 3:Mar\n",
    "* 4:Apr\n",
    "* 5:May\n",
    "* 6:June\n",
    "* 7:July\n",
    "* 8:Aug\n",
    "* 9:Sep\n",
    "* 10:Oct\n",
    "* 11:Nov\n",
    "* 12:Dec"
   ]
  },
  {
   "cell_type": "code",
   "execution_count": 110,
   "metadata": {
    "execution": {
     "iopub.execute_input": "2020-10-07T04:56:38.862793Z",
     "iopub.status.busy": "2020-10-07T04:56:38.862016Z",
     "iopub.status.idle": "2020-10-07T04:56:38.865341Z",
     "shell.execute_reply": "2020-10-07T04:56:38.864567Z"
    },
    "papermill": {
     "duration": 0.107539,
     "end_time": "2020-10-07T04:56:38.865502",
     "exception": false,
     "start_time": "2020-10-07T04:56:38.757963",
     "status": "completed"
    },
    "tags": []
   },
   "outputs": [],
   "source": [
    "codes = {1:'Jan',2:'Feb',3:'Mar',4:'Apr',5:'May',6:'June',7:'July',8:'Aug',9:'Sep',10:'Oct',11:'Nov',12:'Dec'}\n",
    "bike['month'] = bike['month'].map(codes)"
   ]
  },
  {
   "cell_type": "code",
   "execution_count": 111,
   "metadata": {
    "execution": {
     "iopub.execute_input": "2020-10-07T04:56:39.067593Z",
     "iopub.status.busy": "2020-10-07T04:56:39.064809Z",
     "iopub.status.idle": "2020-10-07T04:56:40.455438Z",
     "shell.execute_reply": "2020-10-07T04:56:40.456026Z"
    },
    "papermill": {
     "duration": 1.49491,
     "end_time": "2020-10-07T04:56:40.456209",
     "exception": false,
     "start_time": "2020-10-07T04:56:38.961299",
     "status": "completed"
    },
    "tags": []
   },
   "outputs": [
    {
     "data": {
      "text/plain": [
       "<matplotlib.axes._subplots.AxesSubplot at 0x156ed935550>"
      ]
     },
     "execution_count": 111,
     "metadata": {},
     "output_type": "execute_result"
    },
    {
     "data": {
      "image/png": "[encoded data removed]",
      "text/plain": [
       "<Figure size 720x360 with 1 Axes>"
      ]
     },
     "metadata": {},
     "output_type": "display_data"
    }
   ],
   "source": [
    "plt.figure(figsize=(10,5))\n",
    "sns.barplot('month','count',hue='year',data=bike,palette='Paired')\n"
   ]
  },
  {
   "cell_type": "markdown",
   "metadata": {
    "papermill": {
     "duration": 0.095848,
     "end_time": "2020-10-07T04:56:40.648417",
     "exception": false,
     "start_time": "2020-10-07T04:56:40.552569",
     "status": "completed"
    },
    "tags": []
   },
   "source": [
    "## **6) WeekDay:**\n",
    "\n",
    "* 0:Mon\n",
    "* 1:Tue\n",
    "* 2:Wed\n",
    "* 3:Thu\n",
    "* 4:Fri\n",
    "* 5:Sat\n",
    "* 6:Sun"
   ]
  },
  {
   "cell_type": "code",
   "execution_count": 112,
   "metadata": {
    "execution": {
     "iopub.execute_input": "2020-10-07T04:56:40.851063Z",
     "iopub.status.busy": "2020-10-07T04:56:40.850228Z",
     "iopub.status.idle": "2020-10-07T04:56:40.853982Z",
     "shell.execute_reply": "2020-10-07T04:56:40.853383Z"
    },
    "papermill": {
     "duration": 0.109521,
     "end_time": "2020-10-07T04:56:40.854127",
     "exception": false,
     "start_time": "2020-10-07T04:56:40.744606",
     "status": "completed"
    },
    "tags": []
   },
   "outputs": [],
   "source": [
    "codes = {0:'Mon',1:'Tue',2:'Wed',3:'Thu',4:'Fri',5:'Sat',6:'Sun'}\n",
    "bike['weekday'] = bike['weekday'].map(codes)"
   ]
  },
  {
   "cell_type": "code",
   "execution_count": 113,
   "metadata": {
    "execution": {
     "iopub.execute_input": "2020-10-07T04:56:41.062680Z",
     "iopub.status.busy": "2020-10-07T04:56:41.055903Z",
     "iopub.status.idle": "2020-10-07T04:56:41.324213Z",
     "shell.execute_reply": "2020-10-07T04:56:41.323438Z"
    },
    "papermill": {
     "duration": 0.373619,
     "end_time": "2020-10-07T04:56:41.324396",
     "exception": false,
     "start_time": "2020-10-07T04:56:40.950777",
     "status": "completed"
    },
    "tags": []
   },
   "outputs": [
    {
     "data": {
      "text/plain": [
       "<matplotlib.axes._subplots.AxesSubplot at 0x156ed94be20>"
      ]
     },
     "execution_count": 113,
     "metadata": {},
     "output_type": "execute_result"
    },
    {
     "data": {
      "image/png": "[encoded data removed]",
      "text/plain": [
       "<Figure size 432x288 with 1 Axes>"
      ]
     },
     "metadata": {},
     "output_type": "display_data"
    }
   ],
   "source": [
    "bike.groupby('weekday')['count'].max().plot(kind='bar')"
   ]
  },
  {
   "cell_type": "markdown",
   "metadata": {
    "papermill": {
     "duration": 0.099645,
     "end_time": "2020-10-07T04:56:41.526877",
     "exception": false,
     "start_time": "2020-10-07T04:56:41.427232",
     "status": "completed"
    },
    "tags": []
   },
   "source": [
    "### Bike Rentals are maximum on Sunday and Monday"
   ]
  },
  {
   "cell_type": "markdown",
   "metadata": {
    "papermill": {
     "duration": 0.098062,
     "end_time": "2020-10-07T04:56:41.723223",
     "exception": false,
     "start_time": "2020-10-07T04:56:41.625161",
     "status": "completed"
    },
    "tags": []
   },
   "source": [
    "## **7) temp**"
   ]
  },
  {
   "cell_type": "code",
   "execution_count": 114,
   "metadata": {
    "execution": {
     "iopub.execute_input": "2020-10-07T04:56:41.933734Z",
     "iopub.status.busy": "2020-10-07T04:56:41.926636Z",
     "iopub.status.idle": "2020-10-07T04:56:42.243127Z",
     "shell.execute_reply": "2020-10-07T04:56:42.242348Z"
    },
    "papermill": {
     "duration": 0.420721,
     "end_time": "2020-10-07T04:56:42.243260",
     "exception": false,
     "start_time": "2020-10-07T04:56:41.822539",
     "status": "completed"
    },
    "tags": []
   },
   "outputs": [
    {
     "data": {
      "text/plain": [
       "<matplotlib.collections.PathCollection at 0x156edaadd90>"
      ]
     },
     "execution_count": 114,
     "metadata": {},
     "output_type": "execute_result"
    },
    {
     "data": {
      "image/png": "[encoded data removed]",
      "text/plain": [
       "<Figure size 432x288 with 1 Axes>"
      ]
     },
     "metadata": {},
     "output_type": "display_data"
    }
   ],
   "source": [
    "plt.scatter('temp','count',data=bike)"
   ]
  },
  {
   "cell_type": "markdown",
   "metadata": {
    "papermill": {
     "duration": 0.10132,
     "end_time": "2020-10-07T04:56:42.444702",
     "exception": false,
     "start_time": "2020-10-07T04:56:42.343382",
     "status": "completed"
    },
    "tags": []
   },
   "source": [
    "### Bike Rentals are observed at higher temperatures."
   ]
  },
  {
   "cell_type": "markdown",
   "metadata": {
    "papermill": {
     "duration": 0.100203,
     "end_time": "2020-10-07T04:56:42.644039",
     "exception": false,
     "start_time": "2020-10-07T04:56:42.543836",
     "status": "completed"
    },
    "tags": []
   },
   "source": [
    "## **8) atemp**"
   ]
  },
  {
   "cell_type": "code",
   "execution_count": 115,
   "metadata": {
    "execution": {
     "iopub.execute_input": "2020-10-07T04:56:42.863771Z",
     "iopub.status.busy": "2020-10-07T04:56:42.852073Z",
     "iopub.status.idle": "2020-10-07T04:56:43.181025Z",
     "shell.execute_reply": "2020-10-07T04:56:43.180223Z"
    },
    "papermill": {
     "duration": 0.435812,
     "end_time": "2020-10-07T04:56:43.181177",
     "exception": false,
     "start_time": "2020-10-07T04:56:42.745365",
     "status": "completed"
    },
    "tags": []
   },
   "outputs": [
    {
     "data": {
      "text/plain": [
       "<matplotlib.collections.PathCollection at 0x156edb09160>"
      ]
     },
     "execution_count": 115,
     "metadata": {},
     "output_type": "execute_result"
    },
    {
     "data": {
      "image/png": "[encoded data removed]",
      "text/plain": [
       "<Figure size 432x288 with 1 Axes>"
      ]
     },
     "metadata": {},
     "output_type": "display_data"
    }
   ],
   "source": [
    "plt.scatter('atemp','count',data=bike)"
   ]
  },
  {
   "cell_type": "markdown",
   "metadata": {
    "papermill": {
     "duration": 0.101919,
     "end_time": "2020-10-07T04:56:43.386267",
     "exception": false,
     "start_time": "2020-10-07T04:56:43.284348",
     "status": "completed"
    },
    "tags": []
   },
   "source": [
    "### Bike Rentals are observed at higher \"feel-like\" temperatures."
   ]
  },
  {
   "cell_type": "markdown",
   "metadata": {
    "papermill": {
     "duration": 0.100624,
     "end_time": "2020-10-07T04:56:43.587916",
     "exception": false,
     "start_time": "2020-10-07T04:56:43.487292",
     "status": "completed"
    },
    "tags": []
   },
   "source": [
    "## 9) Humidity"
   ]
  },
  {
   "cell_type": "code",
   "execution_count": 116,
   "metadata": {
    "execution": {
     "iopub.execute_input": "2020-10-07T04:56:43.804444Z",
     "iopub.status.busy": "2020-10-07T04:56:43.802056Z",
     "iopub.status.idle": "2020-10-07T04:56:44.098639Z",
     "shell.execute_reply": "2020-10-07T04:56:44.097863Z"
    },
    "papermill": {
     "duration": 0.410166,
     "end_time": "2020-10-07T04:56:44.098774",
     "exception": false,
     "start_time": "2020-10-07T04:56:43.688608",
     "status": "completed"
    },
    "tags": []
   },
   "outputs": [
    {
     "data": {
      "text/plain": [
       "<matplotlib.collections.PathCollection at 0x156edb549a0>"
      ]
     },
     "execution_count": 116,
     "metadata": {},
     "output_type": "execute_result"
    },
    {
     "data": {
      "image/png": "[encoded data removed]",
      "text/plain": [
       "<Figure size 432x288 with 1 Axes>"
      ]
     },
     "metadata": {},
     "output_type": "display_data"
    }
   ],
   "source": [
    "plt.scatter('humidity','count',data=bike)"
   ]
  },
  {
   "cell_type": "markdown",
   "metadata": {
    "papermill": {
     "duration": 0.103122,
     "end_time": "2020-10-07T04:56:44.307517",
     "exception": false,
     "start_time": "2020-10-07T04:56:44.204395",
     "status": "completed"
    },
    "tags": []
   },
   "source": [
    "### Temperature being directly proportional to Humidity, Bike Rentals are making during high humidity."
   ]
  },
  {
   "cell_type": "markdown",
   "metadata": {
    "papermill": {
     "duration": 0.102366,
     "end_time": "2020-10-07T04:56:44.515415",
     "exception": false,
     "start_time": "2020-10-07T04:56:44.413049",
     "status": "completed"
    },
    "tags": []
   },
   "source": [
    "## 10) Windspeed"
   ]
  },
  {
   "cell_type": "code",
   "execution_count": 117,
   "metadata": {
    "execution": {
     "iopub.execute_input": "2020-10-07T04:56:44.744864Z",
     "iopub.status.busy": "2020-10-07T04:56:44.732518Z",
     "iopub.status.idle": "2020-10-07T04:56:45.051861Z",
     "shell.execute_reply": "2020-10-07T04:56:45.051173Z"
    },
    "papermill": {
     "duration": 0.433725,
     "end_time": "2020-10-07T04:56:45.051994",
     "exception": false,
     "start_time": "2020-10-07T04:56:44.618269",
     "status": "completed"
    },
    "tags": []
   },
   "outputs": [
    {
     "data": {
      "text/plain": [
       "<matplotlib.collections.PathCollection at 0x156edba2790>"
      ]
     },
     "execution_count": 117,
     "metadata": {},
     "output_type": "execute_result"
    },
    {
     "data": {
      "image/png": "[encoded data removed]",
      "text/plain": [
       "<Figure size 432x288 with 1 Axes>"
      ]
     },
     "metadata": {},
     "output_type": "display_data"
    }
   ],
   "source": [
    "plt.scatter('windspeed','count',data=bike)"
   ]
  },
  {
   "cell_type": "markdown",
   "metadata": {
    "papermill": {
     "duration": 0.104537,
     "end_time": "2020-10-07T04:56:45.262706",
     "exception": false,
     "start_time": "2020-10-07T04:56:45.158169",
     "status": "completed"
    },
    "tags": []
   },
   "source": [
    "### Wind speeds increase with a greater temperature difference.Wind speed near the surface is most highly correlated with the temperature."
   ]
  },
  {
   "cell_type": "code",
   "execution_count": 118,
   "metadata": {
    "execution": {
     "iopub.execute_input": "2020-10-07T04:56:45.486713Z",
     "iopub.status.busy": "2020-10-07T04:56:45.479385Z",
     "iopub.status.idle": "2020-10-07T04:56:45.815129Z",
     "shell.execute_reply": "2020-10-07T04:56:45.814341Z"
    },
    "papermill": {
     "duration": 0.447848,
     "end_time": "2020-10-07T04:56:45.815271",
     "exception": false,
     "start_time": "2020-10-07T04:56:45.367423",
     "status": "completed"
    },
    "tags": []
   },
   "outputs": [
    {
     "data": {
      "text/plain": [
       "<matplotlib.axes._subplots.AxesSubplot at 0x156edbdb4f0>"
      ]
     },
     "execution_count": 118,
     "metadata": {},
     "output_type": "execute_result"
    },
    {
     "data": {
      "image/png": "[encoded data removed]",
      "text/plain": [
       "<Figure size 432x288 with 1 Axes>"
      ]
     },
     "metadata": {},
     "output_type": "display_data"
    }
   ],
   "source": [
    "sns.distplot(bike['count'])"
   ]
  },
  {
   "cell_type": "markdown",
   "metadata": {
    "papermill": {
     "duration": 0.110535,
     "end_time": "2020-10-07T04:56:46.036837",
     "exception": false,
     "start_time": "2020-10-07T04:56:45.926302",
     "status": "completed"
    },
    "tags": []
   },
   "source": [
    "## Step 3: Visualizing the Relationship among variables"
   ]
  },
  {
   "cell_type": "code",
   "execution_count": 119,
   "metadata": {
    "execution": {
     "iopub.execute_input": "2020-10-07T04:56:46.276370Z",
     "iopub.status.busy": "2020-10-07T04:56:46.275592Z",
     "iopub.status.idle": "2020-10-07T04:56:58.287063Z",
     "shell.execute_reply": "2020-10-07T04:56:58.287676Z"
    },
    "papermill": {
     "duration": 12.141147,
     "end_time": "2020-10-07T04:56:58.287852",
     "exception": false,
     "start_time": "2020-10-07T04:56:46.146705",
     "status": "completed"
    },
    "tags": []
   },
   "outputs": [
    {
     "data": {
      "text/plain": [
       "<seaborn.axisgrid.PairGrid at 0x156edc517f0>"
      ]
     },
     "execution_count": 119,
     "metadata": {},
     "output_type": "execute_result"
    },
    {
     "data": {
      "image/png": "[encoded data removed]",
      "text/plain": [
       "<Figure size 1080x1080 with 42 Axes>"
      ]
     },
     "metadata": {},
     "output_type": "display_data"
    }
   ],
   "source": [
    "sns.pairplot(bike)"
   ]
  },
  {
   "cell_type": "code",
   "execution_count": 120,
   "metadata": {
    "execution": {
     "iopub.execute_input": "2020-10-07T04:56:58.537299Z",
     "iopub.status.busy": "2020-10-07T04:56:58.534923Z",
     "iopub.status.idle": "2020-10-07T04:56:58.962973Z",
     "shell.execute_reply": "2020-10-07T04:56:58.962223Z"
    },
    "papermill": {
     "duration": 0.555776,
     "end_time": "2020-10-07T04:56:58.963118",
     "exception": false,
     "start_time": "2020-10-07T04:56:58.407342",
     "status": "completed"
    },
    "tags": []
   },
   "outputs": [
    {
     "data": {
      "text/plain": [
       "<matplotlib.axes._subplots.AxesSubplot at 0x156efb2b8e0>"
      ]
     },
     "execution_count": 120,
     "metadata": {},
     "output_type": "execute_result"
    },
    {
     "data": {
      "image/png": "[encoded data removed]",
      "text/plain": [
       "<Figure size 864x432 with 2 Axes>"
      ]
     },
     "metadata": {},
     "output_type": "display_data"
    }
   ],
   "source": [
    "plt.figure(figsize = (12,6))\n",
    "sns.heatmap(bike.corr(),annot=True)"
   ]
  },
  {
   "cell_type": "code",
   "execution_count": 121,
   "metadata": {
    "execution": {
     "iopub.execute_input": "2020-10-07T04:56:59.243640Z",
     "iopub.status.busy": "2020-10-07T04:56:59.238214Z",
     "iopub.status.idle": "2020-10-07T04:56:59.514707Z",
     "shell.execute_reply": "2020-10-07T04:56:59.515311Z"
    },
    "papermill": {
     "duration": 0.411085,
     "end_time": "2020-10-07T04:56:59.515507",
     "exception": false,
     "start_time": "2020-10-07T04:56:59.104422",
     "status": "completed"
    },
    "tags": []
   },
   "outputs": [
    {
     "data": {
      "text/plain": [
       "<matplotlib.axes._subplots.AxesSubplot at 0x156f022a220>"
      ]
     },
     "execution_count": 121,
     "metadata": {},
     "output_type": "execute_result"
    },
    {
     "data": {
      "image/png": "[encoded data removed]",
      "text/plain": [
       "<Figure size 432x288 with 2 Axes>"
      ]
     },
     "metadata": {},
     "output_type": "display_data"
    }
   ],
   "source": [
    "data= bike[['temp','atemp','humidity','windspeed']]\n",
    "sns.heatmap(data.corr(),annot=True)"
   ]
  },
  {
   "cell_type": "markdown",
   "metadata": {
    "papermill": {
     "duration": 0.122158,
     "end_time": "2020-10-07T04:56:59.759581",
     "exception": false,
     "start_time": "2020-10-07T04:56:59.637423",
     "status": "completed"
    },
    "tags": []
   },
   "source": [
    "### It is observed that atemp and temp are highly correlated and one can be dropped to avoid multicollinearity."
   ]
  },
  {
   "cell_type": "code",
   "execution_count": 122,
   "metadata": {
    "execution": {
     "iopub.execute_input": "2020-10-07T04:57:00.013516Z",
     "iopub.status.busy": "2020-10-07T04:57:00.012681Z",
     "iopub.status.idle": "2020-10-07T04:57:00.017637Z",
     "shell.execute_reply": "2020-10-07T04:57:00.016733Z"
    },
    "papermill": {
     "duration": 0.135757,
     "end_time": "2020-10-07T04:57:00.017813",
     "exception": false,
     "start_time": "2020-10-07T04:56:59.882056",
     "status": "completed"
    },
    "tags": []
   },
   "outputs": [],
   "source": [
    "bike.drop('atemp',axis=1,inplace=True)"
   ]
  },
  {
   "cell_type": "code",
   "execution_count": 123,
   "metadata": {
    "execution": {
     "iopub.execute_input": "2020-10-07T04:57:00.283635Z",
     "iopub.status.busy": "2020-10-07T04:57:00.282688Z",
     "iopub.status.idle": "2020-10-07T04:57:00.288398Z",
     "shell.execute_reply": "2020-10-07T04:57:00.287624Z"
    },
    "papermill": {
     "duration": 0.148319,
     "end_time": "2020-10-07T04:57:00.288558",
     "exception": false,
     "start_time": "2020-10-07T04:57:00.140239",
     "status": "completed"
    },
    "tags": []
   },
   "outputs": [
    {
     "data": {
      "text/html": [
       "<div>\n",
       "<style scoped>\n",
       "    .dataframe tbody tr th:only-of-type {\n",
       "        vertical-align: middle;\n",
       "    }\n",
       "\n",
       "    .dataframe tbody tr th {\n",
       "        vertical-align: top;\n",
       "    }\n",
       "\n",
       "    .dataframe thead th {\n",
       "        text-align: right;\n",
       "    }\n",
       "</style>\n",
       "<table border=\"1\" class=\"dataframe\">\n",
       "  <thead>\n",
       "    <tr style=\"text-align: right;\">\n",
       "      <th></th>\n",
       "      <th>season</th>\n",
       "      <th>weekday</th>\n",
       "      <th>workingday</th>\n",
       "      <th>weathersit</th>\n",
       "      <th>temp</th>\n",
       "      <th>humidity</th>\n",
       "      <th>windspeed</th>\n",
       "      <th>count</th>\n",
       "      <th>year</th>\n",
       "      <th>month</th>\n",
       "    </tr>\n",
       "  </thead>\n",
       "  <tbody>\n",
       "    <tr>\n",
       "      <th>0</th>\n",
       "      <td>spring</td>\n",
       "      <td>Tue</td>\n",
       "      <td>working_day</td>\n",
       "      <td>Mist</td>\n",
       "      <td>14.110847</td>\n",
       "      <td>80.5833</td>\n",
       "      <td>10.749882</td>\n",
       "      <td>985</td>\n",
       "      <td>0</td>\n",
       "      <td>Jan</td>\n",
       "    </tr>\n",
       "    <tr>\n",
       "      <th>1</th>\n",
       "      <td>spring</td>\n",
       "      <td>Wed</td>\n",
       "      <td>working_day</td>\n",
       "      <td>Mist</td>\n",
       "      <td>14.902598</td>\n",
       "      <td>69.6087</td>\n",
       "      <td>16.652113</td>\n",
       "      <td>801</td>\n",
       "      <td>0</td>\n",
       "      <td>Jan</td>\n",
       "    </tr>\n",
       "    <tr>\n",
       "      <th>2</th>\n",
       "      <td>spring</td>\n",
       "      <td>Thu</td>\n",
       "      <td>working_day</td>\n",
       "      <td>Clear</td>\n",
       "      <td>8.050924</td>\n",
       "      <td>43.7273</td>\n",
       "      <td>16.636703</td>\n",
       "      <td>1349</td>\n",
       "      <td>0</td>\n",
       "      <td>Jan</td>\n",
       "    </tr>\n",
       "    <tr>\n",
       "      <th>3</th>\n",
       "      <td>spring</td>\n",
       "      <td>Fri</td>\n",
       "      <td>working_day</td>\n",
       "      <td>Clear</td>\n",
       "      <td>8.200000</td>\n",
       "      <td>59.0435</td>\n",
       "      <td>10.739832</td>\n",
       "      <td>1562</td>\n",
       "      <td>0</td>\n",
       "      <td>Jan</td>\n",
       "    </tr>\n",
       "    <tr>\n",
       "      <th>4</th>\n",
       "      <td>spring</td>\n",
       "      <td>Sat</td>\n",
       "      <td>working_day</td>\n",
       "      <td>Clear</td>\n",
       "      <td>9.305237</td>\n",
       "      <td>43.6957</td>\n",
       "      <td>12.522300</td>\n",
       "      <td>1600</td>\n",
       "      <td>0</td>\n",
       "      <td>Jan</td>\n",
       "    </tr>\n",
       "  </tbody>\n",
       "</table>\n",
       "</div>"
      ],
      "text/plain": [
       "   season weekday   workingday weathersit       temp  humidity  windspeed  \\\n",
       "0  spring     Tue  working_day       Mist  14.110847   80.5833  10.749882   \n",
       "1  spring     Wed  working_day       Mist  14.902598   69.6087  16.652113   \n",
       "2  spring     Thu  working_day      Clear   8.050924   43.7273  16.636703   \n",
       "3  spring     Fri  working_day      Clear   8.200000   59.0435  10.739832   \n",
       "4  spring     Sat  working_day      Clear   9.305237   43.6957  12.522300   \n",
       "\n",
       "   count  year month  \n",
       "0    985     0   Jan  \n",
       "1    801     0   Jan  \n",
       "2   1349     0   Jan  \n",
       "3   1562     0   Jan  \n",
       "4   1600     0   Jan  "
      ]
     },
     "execution_count": 123,
     "metadata": {},
     "output_type": "execute_result"
    }
   ],
   "source": [
    "bike.head()"
   ]
  },
  {
   "cell_type": "markdown",
   "metadata": {
    "papermill": {
     "duration": 0.123548,
     "end_time": "2020-10-07T04:57:00.535890",
     "exception": false,
     "start_time": "2020-10-07T04:57:00.412342",
     "status": "completed"
    },
    "tags": []
   },
   "source": [
    "## Step 4 : Dealing With Categorical Variables"
   ]
  },
  {
   "cell_type": "code",
   "execution_count": 124,
   "metadata": {
    "execution": {
     "iopub.execute_input": "2020-10-07T04:57:00.792881Z",
     "iopub.status.busy": "2020-10-07T04:57:00.790389Z",
     "iopub.status.idle": "2020-10-07T04:57:00.800436Z",
     "shell.execute_reply": "2020-10-07T04:57:00.799788Z"
    },
    "papermill": {
     "duration": 0.142483,
     "end_time": "2020-10-07T04:57:00.800585",
     "exception": false,
     "start_time": "2020-10-07T04:57:00.658102",
     "status": "completed"
    },
    "tags": []
   },
   "outputs": [],
   "source": [
    "seasons = pd.get_dummies(bike['season'],drop_first=True)\n",
    "\n",
    "working_day = pd.get_dummies(bike['workingday'],drop_first=True)\n",
    "\n",
    "weather= pd.get_dummies(bike['weathersit'],drop_first=True)\n",
    "\n",
    "month= pd.get_dummies(bike['month'],drop_first=True)\n",
    "\n",
    "week_day= pd.get_dummies(bike['weekday'],drop_first=True)"
   ]
  },
  {
   "cell_type": "code",
   "execution_count": 125,
   "metadata": {
    "execution": {
     "iopub.execute_input": "2020-10-07T04:57:01.058125Z",
     "iopub.status.busy": "2020-10-07T04:57:01.057091Z",
     "iopub.status.idle": "2020-10-07T04:57:01.061384Z",
     "shell.execute_reply": "2020-10-07T04:57:01.062087Z"
    },
    "papermill": {
     "duration": 0.138877,
     "end_time": "2020-10-07T04:57:01.062257",
     "exception": false,
     "start_time": "2020-10-07T04:57:00.923380",
     "status": "completed"
    },
    "tags": []
   },
   "outputs": [],
   "source": [
    "bike= pd.concat([bike,seasons,working_day,weather,month,week_day],axis=1)"
   ]
  },
  {
   "cell_type": "code",
   "execution_count": 126,
   "metadata": {
    "execution": {
     "iopub.execute_input": "2020-10-07T04:57:01.328961Z",
     "iopub.status.busy": "2020-10-07T04:57:01.325631Z",
     "iopub.status.idle": "2020-10-07T04:57:01.344598Z",
     "shell.execute_reply": "2020-10-07T04:57:01.343802Z"
    },
    "papermill": {
     "duration": 0.157768,
     "end_time": "2020-10-07T04:57:01.344723",
     "exception": false,
     "start_time": "2020-10-07T04:57:01.186955",
     "status": "completed"
    },
    "tags": []
   },
   "outputs": [
    {
     "data": {
      "text/html": [
       "<div>\n",
       "<style scoped>\n",
       "    .dataframe tbody tr th:only-of-type {\n",
       "        vertical-align: middle;\n",
       "    }\n",
       "\n",
       "    .dataframe tbody tr th {\n",
       "        vertical-align: top;\n",
       "    }\n",
       "\n",
       "    .dataframe thead th {\n",
       "        text-align: right;\n",
       "    }\n",
       "</style>\n",
       "<table border=\"1\" class=\"dataframe\">\n",
       "  <thead>\n",
       "    <tr style=\"text-align: right;\">\n",
       "      <th></th>\n",
       "      <th>season</th>\n",
       "      <th>weekday</th>\n",
       "      <th>workingday</th>\n",
       "      <th>weathersit</th>\n",
       "      <th>temp</th>\n",
       "      <th>humidity</th>\n",
       "      <th>windspeed</th>\n",
       "      <th>count</th>\n",
       "      <th>year</th>\n",
       "      <th>month</th>\n",
       "      <th>...</th>\n",
       "      <th>May</th>\n",
       "      <th>Nov</th>\n",
       "      <th>Oct</th>\n",
       "      <th>Sep</th>\n",
       "      <th>Mon</th>\n",
       "      <th>Sat</th>\n",
       "      <th>Sun</th>\n",
       "      <th>Thu</th>\n",
       "      <th>Tue</th>\n",
       "      <th>Wed</th>\n",
       "    </tr>\n",
       "  </thead>\n",
       "  <tbody>\n",
       "    <tr>\n",
       "      <th>0</th>\n",
       "      <td>spring</td>\n",
       "      <td>Tue</td>\n",
       "      <td>working_day</td>\n",
       "      <td>Mist</td>\n",
       "      <td>14.110847</td>\n",
       "      <td>80.5833</td>\n",
       "      <td>10.749882</td>\n",
       "      <td>985</td>\n",
       "      <td>0</td>\n",
       "      <td>Jan</td>\n",
       "      <td>...</td>\n",
       "      <td>0</td>\n",
       "      <td>0</td>\n",
       "      <td>0</td>\n",
       "      <td>0</td>\n",
       "      <td>0</td>\n",
       "      <td>0</td>\n",
       "      <td>0</td>\n",
       "      <td>0</td>\n",
       "      <td>1</td>\n",
       "      <td>0</td>\n",
       "    </tr>\n",
       "    <tr>\n",
       "      <th>1</th>\n",
       "      <td>spring</td>\n",
       "      <td>Wed</td>\n",
       "      <td>working_day</td>\n",
       "      <td>Mist</td>\n",
       "      <td>14.902598</td>\n",
       "      <td>69.6087</td>\n",
       "      <td>16.652113</td>\n",
       "      <td>801</td>\n",
       "      <td>0</td>\n",
       "      <td>Jan</td>\n",
       "      <td>...</td>\n",
       "      <td>0</td>\n",
       "      <td>0</td>\n",
       "      <td>0</td>\n",
       "      <td>0</td>\n",
       "      <td>0</td>\n",
       "      <td>0</td>\n",
       "      <td>0</td>\n",
       "      <td>0</td>\n",
       "      <td>0</td>\n",
       "      <td>1</td>\n",
       "    </tr>\n",
       "    <tr>\n",
       "      <th>2</th>\n",
       "      <td>spring</td>\n",
       "      <td>Thu</td>\n",
       "      <td>working_day</td>\n",
       "      <td>Clear</td>\n",
       "      <td>8.050924</td>\n",
       "      <td>43.7273</td>\n",
       "      <td>16.636703</td>\n",
       "      <td>1349</td>\n",
       "      <td>0</td>\n",
       "      <td>Jan</td>\n",
       "      <td>...</td>\n",
       "      <td>0</td>\n",
       "      <td>0</td>\n",
       "      <td>0</td>\n",
       "      <td>0</td>\n",
       "      <td>0</td>\n",
       "      <td>0</td>\n",
       "      <td>0</td>\n",
       "      <td>1</td>\n",
       "      <td>0</td>\n",
       "      <td>0</td>\n",
       "    </tr>\n",
       "    <tr>\n",
       "      <th>3</th>\n",
       "      <td>spring</td>\n",
       "      <td>Fri</td>\n",
       "      <td>working_day</td>\n",
       "      <td>Clear</td>\n",
       "      <td>8.200000</td>\n",
       "      <td>59.0435</td>\n",
       "      <td>10.739832</td>\n",
       "      <td>1562</td>\n",
       "      <td>0</td>\n",
       "      <td>Jan</td>\n",
       "      <td>...</td>\n",
       "      <td>0</td>\n",
       "      <td>0</td>\n",
       "      <td>0</td>\n",
       "      <td>0</td>\n",
       "      <td>0</td>\n",
       "      <td>0</td>\n",
       "      <td>0</td>\n",
       "      <td>0</td>\n",
       "      <td>0</td>\n",
       "      <td>0</td>\n",
       "    </tr>\n",
       "    <tr>\n",
       "      <th>4</th>\n",
       "      <td>spring</td>\n",
       "      <td>Sat</td>\n",
       "      <td>working_day</td>\n",
       "      <td>Clear</td>\n",
       "      <td>9.305237</td>\n",
       "      <td>43.6957</td>\n",
       "      <td>12.522300</td>\n",
       "      <td>1600</td>\n",
       "      <td>0</td>\n",
       "      <td>Jan</td>\n",
       "      <td>...</td>\n",
       "      <td>0</td>\n",
       "      <td>0</td>\n",
       "      <td>0</td>\n",
       "      <td>0</td>\n",
       "      <td>0</td>\n",
       "      <td>1</td>\n",
       "      <td>0</td>\n",
       "      <td>0</td>\n",
       "      <td>0</td>\n",
       "      <td>0</td>\n",
       "    </tr>\n",
       "  </tbody>\n",
       "</table>\n",
       "<p>5 rows × 33 columns</p>\n",
       "</div>"
      ],
      "text/plain": [
       "   season weekday   workingday weathersit       temp  humidity  windspeed  \\\n",
       "0  spring     Tue  working_day       Mist  14.110847   80.5833  10.749882   \n",
       "1  spring     Wed  working_day       Mist  14.902598   69.6087  16.652113   \n",
       "2  spring     Thu  working_day      Clear   8.050924   43.7273  16.636703   \n",
       "3  spring     Fri  working_day      Clear   8.200000   59.0435  10.739832   \n",
       "4  spring     Sat  working_day      Clear   9.305237   43.6957  12.522300   \n",
       "\n",
       "   count  year month  ...  May  Nov  Oct  Sep  Mon  Sat  Sun  Thu  Tue  Wed  \n",
       "0    985     0   Jan  ...    0    0    0    0    0    0    0    0    1    0  \n",
       "1    801     0   Jan  ...    0    0    0    0    0    0    0    0    0    1  \n",
       "2   1349     0   Jan  ...    0    0    0    0    0    0    0    1    0    0  \n",
       "3   1562     0   Jan  ...    0    0    0    0    0    0    0    0    0    0  \n",
       "4   1600     0   Jan  ...    0    0    0    0    0    1    0    0    0    0  \n",
       "\n",
       "[5 rows x 33 columns]"
      ]
     },
     "execution_count": 126,
     "metadata": {},
     "output_type": "execute_result"
    }
   ],
   "source": [
    "bike.head()"
   ]
  },
  {
   "cell_type": "code",
   "execution_count": 127,
   "metadata": {
    "execution": {
     "iopub.execute_input": "2020-10-07T04:57:01.603305Z",
     "iopub.status.busy": "2020-10-07T04:57:01.602277Z",
     "iopub.status.idle": "2020-10-07T04:57:01.606298Z",
     "shell.execute_reply": "2020-10-07T04:57:01.605463Z"
    },
    "papermill": {
     "duration": 0.136127,
     "end_time": "2020-10-07T04:57:01.606445",
     "exception": false,
     "start_time": "2020-10-07T04:57:01.470318",
     "status": "completed"
    },
    "tags": []
   },
   "outputs": [],
   "source": [
    "# Dropping the categorical variables as they are already dummy-encoded.\n",
    "\n",
    "bike.drop(['season','workingday','weathersit','weekday','month'],axis=1,inplace=True)"
   ]
  },
  {
   "cell_type": "code",
   "execution_count": 128,
   "metadata": {
    "execution": {
     "iopub.execute_input": "2020-10-07T04:57:01.882445Z",
     "iopub.status.busy": "2020-10-07T04:57:01.880258Z",
     "iopub.status.idle": "2020-10-07T04:57:01.886956Z",
     "shell.execute_reply": "2020-10-07T04:57:01.887585Z"
    },
    "papermill": {
     "duration": 0.155462,
     "end_time": "2020-10-07T04:57:01.887767",
     "exception": false,
     "start_time": "2020-10-07T04:57:01.732305",
     "status": "completed"
    },
    "tags": []
   },
   "outputs": [
    {
     "data": {
      "text/html": [
       "<div>\n",
       "<style scoped>\n",
       "    .dataframe tbody tr th:only-of-type {\n",
       "        vertical-align: middle;\n",
       "    }\n",
       "\n",
       "    .dataframe tbody tr th {\n",
       "        vertical-align: top;\n",
       "    }\n",
       "\n",
       "    .dataframe thead th {\n",
       "        text-align: right;\n",
       "    }\n",
       "</style>\n",
       "<table border=\"1\" class=\"dataframe\">\n",
       "  <thead>\n",
       "    <tr style=\"text-align: right;\">\n",
       "      <th></th>\n",
       "      <th>temp</th>\n",
       "      <th>humidity</th>\n",
       "      <th>windspeed</th>\n",
       "      <th>count</th>\n",
       "      <th>year</th>\n",
       "      <th>spring</th>\n",
       "      <th>summer</th>\n",
       "      <th>winter</th>\n",
       "      <th>working_day</th>\n",
       "      <th>Light Snow</th>\n",
       "      <th>...</th>\n",
       "      <th>May</th>\n",
       "      <th>Nov</th>\n",
       "      <th>Oct</th>\n",
       "      <th>Sep</th>\n",
       "      <th>Mon</th>\n",
       "      <th>Sat</th>\n",
       "      <th>Sun</th>\n",
       "      <th>Thu</th>\n",
       "      <th>Tue</th>\n",
       "      <th>Wed</th>\n",
       "    </tr>\n",
       "  </thead>\n",
       "  <tbody>\n",
       "    <tr>\n",
       "      <th>0</th>\n",
       "      <td>14.110847</td>\n",
       "      <td>80.5833</td>\n",
       "      <td>10.749882</td>\n",
       "      <td>985</td>\n",
       "      <td>0</td>\n",
       "      <td>1</td>\n",
       "      <td>0</td>\n",
       "      <td>0</td>\n",
       "      <td>1</td>\n",
       "      <td>0</td>\n",
       "      <td>...</td>\n",
       "      <td>0</td>\n",
       "      <td>0</td>\n",
       "      <td>0</td>\n",
       "      <td>0</td>\n",
       "      <td>0</td>\n",
       "      <td>0</td>\n",
       "      <td>0</td>\n",
       "      <td>0</td>\n",
       "      <td>1</td>\n",
       "      <td>0</td>\n",
       "    </tr>\n",
       "    <tr>\n",
       "      <th>1</th>\n",
       "      <td>14.902598</td>\n",
       "      <td>69.6087</td>\n",
       "      <td>16.652113</td>\n",
       "      <td>801</td>\n",
       "      <td>0</td>\n",
       "      <td>1</td>\n",
       "      <td>0</td>\n",
       "      <td>0</td>\n",
       "      <td>1</td>\n",
       "      <td>0</td>\n",
       "      <td>...</td>\n",
       "      <td>0</td>\n",
       "      <td>0</td>\n",
       "      <td>0</td>\n",
       "      <td>0</td>\n",
       "      <td>0</td>\n",
       "      <td>0</td>\n",
       "      <td>0</td>\n",
       "      <td>0</td>\n",
       "      <td>0</td>\n",
       "      <td>1</td>\n",
       "    </tr>\n",
       "    <tr>\n",
       "      <th>2</th>\n",
       "      <td>8.050924</td>\n",
       "      <td>43.7273</td>\n",
       "      <td>16.636703</td>\n",
       "      <td>1349</td>\n",
       "      <td>0</td>\n",
       "      <td>1</td>\n",
       "      <td>0</td>\n",
       "      <td>0</td>\n",
       "      <td>1</td>\n",
       "      <td>0</td>\n",
       "      <td>...</td>\n",
       "      <td>0</td>\n",
       "      <td>0</td>\n",
       "      <td>0</td>\n",
       "      <td>0</td>\n",
       "      <td>0</td>\n",
       "      <td>0</td>\n",
       "      <td>0</td>\n",
       "      <td>1</td>\n",
       "      <td>0</td>\n",
       "      <td>0</td>\n",
       "    </tr>\n",
       "    <tr>\n",
       "      <th>3</th>\n",
       "      <td>8.200000</td>\n",
       "      <td>59.0435</td>\n",
       "      <td>10.739832</td>\n",
       "      <td>1562</td>\n",
       "      <td>0</td>\n",
       "      <td>1</td>\n",
       "      <td>0</td>\n",
       "      <td>0</td>\n",
       "      <td>1</td>\n",
       "      <td>0</td>\n",
       "      <td>...</td>\n",
       "      <td>0</td>\n",
       "      <td>0</td>\n",
       "      <td>0</td>\n",
       "      <td>0</td>\n",
       "      <td>0</td>\n",
       "      <td>0</td>\n",
       "      <td>0</td>\n",
       "      <td>0</td>\n",
       "      <td>0</td>\n",
       "      <td>0</td>\n",
       "    </tr>\n",
       "    <tr>\n",
       "      <th>4</th>\n",
       "      <td>9.305237</td>\n",
       "      <td>43.6957</td>\n",
       "      <td>12.522300</td>\n",
       "      <td>1600</td>\n",
       "      <td>0</td>\n",
       "      <td>1</td>\n",
       "      <td>0</td>\n",
       "      <td>0</td>\n",
       "      <td>1</td>\n",
       "      <td>0</td>\n",
       "      <td>...</td>\n",
       "      <td>0</td>\n",
       "      <td>0</td>\n",
       "      <td>0</td>\n",
       "      <td>0</td>\n",
       "      <td>0</td>\n",
       "      <td>1</td>\n",
       "      <td>0</td>\n",
       "      <td>0</td>\n",
       "      <td>0</td>\n",
       "      <td>0</td>\n",
       "    </tr>\n",
       "  </tbody>\n",
       "</table>\n",
       "<p>5 rows × 28 columns</p>\n",
       "</div>"
      ],
      "text/plain": [
       "        temp  humidity  windspeed  count  year  spring  summer  winter  \\\n",
       "0  14.110847   80.5833  10.749882    985     0       1       0       0   \n",
       "1  14.902598   69.6087  16.652113    801     0       1       0       0   \n",
       "2   8.050924   43.7273  16.636703   1349     0       1       0       0   \n",
       "3   8.200000   59.0435  10.739832   1562     0       1       0       0   \n",
       "4   9.305237   43.6957  12.522300   1600     0       1       0       0   \n",
       "\n",
       "   working_day  Light Snow  ...  May  Nov  Oct  Sep  Mon  Sat  Sun  Thu  Tue  \\\n",
       "0            1           0  ...    0    0    0    0    0    0    0    0    1   \n",
       "1            1           0  ...    0    0    0    0    0    0    0    0    0   \n",
       "2            1           0  ...    0    0    0    0    0    0    0    1    0   \n",
       "3            1           0  ...    0    0    0    0    0    0    0    0    0   \n",
       "4            1           0  ...    0    0    0    0    0    1    0    0    0   \n",
       "\n",
       "   Wed  \n",
       "0    0  \n",
       "1    1  \n",
       "2    0  \n",
       "3    0  \n",
       "4    0  \n",
       "\n",
       "[5 rows x 28 columns]"
      ]
     },
     "execution_count": 128,
     "metadata": {},
     "output_type": "execute_result"
    }
   ],
   "source": [
    "bike.head()"
   ]
  },
  {
   "cell_type": "markdown",
   "metadata": {
    "papermill": {
     "duration": 0.127571,
     "end_time": "2020-10-07T04:57:02.142316",
     "exception": false,
     "start_time": "2020-10-07T04:57:02.014745",
     "status": "completed"
    },
    "tags": []
   },
   "source": [
    "## Step 5: Splitting the Data into Training and Testing Sets"
   ]
  },
  {
   "cell_type": "code",
   "execution_count": 129,
   "metadata": {
    "execution": {
     "iopub.execute_input": "2020-10-07T04:57:02.406937Z",
     "iopub.status.busy": "2020-10-07T04:57:02.406117Z",
     "iopub.status.idle": "2020-10-07T04:57:02.544645Z",
     "shell.execute_reply": "2020-10-07T04:57:02.543904Z"
    },
    "papermill": {
     "duration": 0.271972,
     "end_time": "2020-10-07T04:57:02.544806",
     "exception": false,
     "start_time": "2020-10-07T04:57:02.272834",
     "status": "completed"
    },
    "tags": []
   },
   "outputs": [],
   "source": [
    "from sklearn.model_selection import train_test_split\n",
    "\n",
    "np.random.seed(0)\n",
    "df_train, df_test = train_test_split(bike, train_size = 0.7, test_size = 0.3, random_state = 100)"
   ]
  },
  {
   "cell_type": "markdown",
   "metadata": {
    "papermill": {
     "duration": 0.127765,
     "end_time": "2020-10-07T04:57:02.801352",
     "exception": false,
     "start_time": "2020-10-07T04:57:02.673587",
     "status": "completed"
    },
    "tags": []
   },
   "source": [
    "### Rescaling the Features"
   ]
  },
  {
   "cell_type": "code",
   "execution_count": 130,
   "metadata": {
    "execution": {
     "iopub.execute_input": "2020-10-07T04:57:03.062846Z",
     "iopub.status.busy": "2020-10-07T04:57:03.062061Z",
     "iopub.status.idle": "2020-10-07T04:57:03.065021Z",
     "shell.execute_reply": "2020-10-07T04:57:03.064387Z"
    },
    "papermill": {
     "duration": 0.135569,
     "end_time": "2020-10-07T04:57:03.065211",
     "exception": false,
     "start_time": "2020-10-07T04:57:02.929642",
     "status": "completed"
    },
    "tags": []
   },
   "outputs": [],
   "source": [
    "from sklearn.preprocessing import StandardScaler\n",
    "scaler= StandardScaler()"
   ]
  },
  {
   "cell_type": "code",
   "execution_count": 131,
   "metadata": {
    "execution": {
     "iopub.execute_input": "2020-10-07T04:57:03.367560Z",
     "iopub.status.busy": "2020-10-07T04:57:03.366376Z",
     "iopub.status.idle": "2020-10-07T04:57:03.374153Z",
     "shell.execute_reply": "2020-10-07T04:57:03.373523Z"
    },
    "papermill": {
     "duration": 0.18145,
     "end_time": "2020-10-07T04:57:03.374305",
     "exception": false,
     "start_time": "2020-10-07T04:57:03.192855",
     "status": "completed"
    },
    "tags": []
   },
   "outputs": [],
   "source": [
    "# Apply scaler() to all the columns except the'dummy' variables.\n",
    "\n",
    "num_vars=['temp','humidity','windspeed','count']\n",
    "\n",
    "df_train[num_vars]= scaler.fit_transform(df_train[num_vars])"
   ]
  },
  {
   "cell_type": "code",
   "execution_count": 132,
   "metadata": {
    "execution": {
     "iopub.execute_input": "2020-10-07T04:57:03.659206Z",
     "iopub.status.busy": "2020-10-07T04:57:03.652311Z",
     "iopub.status.idle": "2020-10-07T04:57:03.955341Z",
     "shell.execute_reply": "2020-10-07T04:57:03.955916Z"
    },
    "papermill": {
     "duration": 0.441809,
     "end_time": "2020-10-07T04:57:03.956100",
     "exception": false,
     "start_time": "2020-10-07T04:57:03.514291",
     "status": "completed"
    },
    "tags": []
   },
   "outputs": [
    {
     "data": {
      "text/plain": [
       "<matplotlib.collections.PathCollection at 0x156f00faa30>"
      ]
     },
     "execution_count": 132,
     "metadata": {},
     "output_type": "execute_result"
    },
    {
     "data": {
      "image/png": "[encoded data removed]",
      "text/plain": [
       "<Figure size 432x288 with 1 Axes>"
      ]
     },
     "metadata": {},
     "output_type": "display_data"
    }
   ],
   "source": [
    "plt.scatter('temp','count',data=df_train)"
   ]
  },
  {
   "cell_type": "markdown",
   "metadata": {
    "papermill": {
     "duration": 0.130016,
     "end_time": "2020-10-07T04:57:04.216627",
     "exception": false,
     "start_time": "2020-10-07T04:57:04.086611",
     "status": "completed"
    },
    "tags": []
   },
   "source": [
    "### Dividing into X and Y sets for the model building"
   ]
  },
  {
   "cell_type": "code",
   "execution_count": 133,
   "metadata": {
    "execution": {
     "iopub.execute_input": "2020-10-07T04:57:04.488187Z",
     "iopub.status.busy": "2020-10-07T04:57:04.487165Z",
     "iopub.status.idle": "2020-10-07T04:57:04.492608Z",
     "shell.execute_reply": "2020-10-07T04:57:04.491765Z"
    },
    "papermill": {
     "duration": 0.144043,
     "end_time": "2020-10-07T04:57:04.492749",
     "exception": false,
     "start_time": "2020-10-07T04:57:04.348706",
     "status": "completed"
    },
    "tags": []
   },
   "outputs": [],
   "source": [
    "y_train = df_train.pop('count')\n",
    "X_train = df_train"
   ]
  },
  {
   "cell_type": "markdown",
   "metadata": {
    "papermill": {
     "duration": 0.126715,
     "end_time": "2020-10-07T04:57:04.746916",
     "exception": false,
     "start_time": "2020-10-07T04:57:04.620201",
     "status": "completed"
    },
    "tags": []
   },
   "source": [
    "## Step 6: Building a linear model"
   ]
  },
  {
   "cell_type": "markdown",
   "metadata": {
    "papermill": {
     "duration": 0.127525,
     "end_time": "2020-10-07T04:57:05.002378",
     "exception": false,
     "start_time": "2020-10-07T04:57:04.874853",
     "status": "completed"
    },
    "tags": []
   },
   "source": [
    "### Using Recursive feature elimination(RFE) for automated Feature Selection approach"
   ]
  },
  {
   "cell_type": "code",
   "execution_count": 134,
   "metadata": {
    "execution": {
     "iopub.execute_input": "2020-10-07T04:57:05.268328Z",
     "iopub.status.busy": "2020-10-07T04:57:05.267445Z",
     "iopub.status.idle": "2020-10-07T04:57:05.450562Z",
     "shell.execute_reply": "2020-10-07T04:57:05.449753Z"
    },
    "papermill": {
     "duration": 0.319091,
     "end_time": "2020-10-07T04:57:05.450703",
     "exception": false,
     "start_time": "2020-10-07T04:57:05.131612",
     "status": "completed"
    },
    "tags": []
   },
   "outputs": [],
   "source": [
    "# Importing RFE and LinearRegression\n",
    "from sklearn.feature_selection import RFE\n",
    "from sklearn.linear_model import LinearRegression"
   ]
  },
  {
   "cell_type": "code",
   "execution_count": 135,
   "metadata": {
    "execution": {
     "iopub.execute_input": "2020-10-07T04:57:05.717355Z",
     "iopub.status.busy": "2020-10-07T04:57:05.716573Z",
     "iopub.status.idle": "2020-10-07T04:57:05.792898Z",
     "shell.execute_reply": "2020-10-07T04:57:05.792120Z"
    },
    "papermill": {
     "duration": 0.213439,
     "end_time": "2020-10-07T04:57:05.793043",
     "exception": false,
     "start_time": "2020-10-07T04:57:05.579604",
     "status": "completed"
    },
    "tags": []
   },
   "outputs": [],
   "source": [
    "# Running RFE with the output number of the variable equal to 10\n",
    "\n",
    "lm = LinearRegression()\n",
    "lm.fit(X_train, y_train)\n",
    "\n",
    "rfe = RFE(lm,10) # running RFE\n",
    "rfe = rfe.fit(X_train, y_train)"
   ]
  },
  {
   "cell_type": "code",
   "execution_count": 136,
   "metadata": {
    "execution": {
     "iopub.execute_input": "2020-10-07T04:57:06.065224Z",
     "iopub.status.busy": "2020-10-07T04:57:06.064101Z",
     "iopub.status.idle": "2020-10-07T04:57:06.069940Z",
     "shell.execute_reply": "2020-10-07T04:57:06.069135Z"
    },
    "papermill": {
     "duration": 0.145462,
     "end_time": "2020-10-07T04:57:06.070075",
     "exception": false,
     "start_time": "2020-10-07T04:57:05.924613",
     "status": "completed"
    },
    "tags": []
   },
   "outputs": [
    {
     "data": {
      "text/plain": [
       "[('temp', True, 1),\n",
       " ('humidity', False, 10),\n",
       " ('windspeed', False, 8),\n",
       " ('year', True, 1),\n",
       " ('spring', True, 1),\n",
       " ('summer', False, 7),\n",
       " ('winter', False, 2),\n",
       " ('working_day', True, 1),\n",
       " ('Light Snow', True, 1),\n",
       " ('Mist', True, 1),\n",
       " ('Aug', False, 13),\n",
       " ('Dec', False, 4),\n",
       " ('Feb', False, 6),\n",
       " ('Jan', False, 5),\n",
       " ('July', True, 1),\n",
       " ('June', False, 17),\n",
       " ('Mar', False, 18),\n",
       " ('May', False, 9),\n",
       " ('Nov', False, 3),\n",
       " ('Oct', False, 15),\n",
       " ('Sep', True, 1),\n",
       " ('Mon', True, 1),\n",
       " ('Sat', False, 16),\n",
       " ('Sun', True, 1),\n",
       " ('Thu', False, 14),\n",
       " ('Tue', False, 12),\n",
       " ('Wed', False, 11)]"
      ]
     },
     "execution_count": 136,
     "metadata": {},
     "output_type": "execute_result"
    }
   ],
   "source": [
    "list(zip(X_train.columns,rfe.support_,rfe.ranking_))"
   ]
  },
  {
   "cell_type": "code",
   "execution_count": 137,
   "metadata": {
    "execution": {
     "iopub.execute_input": "2020-10-07T04:57:06.336682Z",
     "iopub.status.busy": "2020-10-07T04:57:06.335761Z",
     "iopub.status.idle": "2020-10-07T04:57:06.340866Z",
     "shell.execute_reply": "2020-10-07T04:57:06.340249Z"
    },
    "papermill": {
     "duration": 0.140622,
     "end_time": "2020-10-07T04:57:06.341023",
     "exception": false,
     "start_time": "2020-10-07T04:57:06.200401",
     "status": "completed"
    },
    "tags": []
   },
   "outputs": [
    {
     "data": {
      "text/plain": [
       "Index(['temp', 'year', 'spring', 'working_day', 'Light Snow', 'Mist', 'July',\n",
       "       'Sep', 'Mon', 'Sun'],\n",
       "      dtype='object')"
      ]
     },
     "execution_count": 137,
     "metadata": {},
     "output_type": "execute_result"
    }
   ],
   "source": [
    "col = X_train.columns[rfe.support_]\n",
    "col"
   ]
  },
  {
   "cell_type": "code",
   "execution_count": 138,
   "metadata": {
    "execution": {
     "iopub.execute_input": "2020-10-07T04:57:06.611584Z",
     "iopub.status.busy": "2020-10-07T04:57:06.610571Z",
     "iopub.status.idle": "2020-10-07T04:57:06.614506Z",
     "shell.execute_reply": "2020-10-07T04:57:06.613834Z"
    },
    "papermill": {
     "duration": 0.14263,
     "end_time": "2020-10-07T04:57:06.614680",
     "exception": false,
     "start_time": "2020-10-07T04:57:06.472050",
     "status": "completed"
    },
    "tags": []
   },
   "outputs": [],
   "source": [
    "# Creating X_test dataframe with RFE selected variables\n",
    "X_train_rfe = X_train[col]"
   ]
  },
  {
   "cell_type": "code",
   "execution_count": 139,
   "metadata": {
    "execution": {
     "iopub.execute_input": "2020-10-07T04:57:06.884129Z",
     "iopub.status.busy": "2020-10-07T04:57:06.883288Z",
     "iopub.status.idle": "2020-10-07T04:57:07.638519Z",
     "shell.execute_reply": "2020-10-07T04:57:07.637813Z"
    },
    "papermill": {
     "duration": 0.891798,
     "end_time": "2020-10-07T04:57:07.638680",
     "exception": false,
     "start_time": "2020-10-07T04:57:06.746882",
     "status": "completed"
    },
    "tags": []
   },
   "outputs": [],
   "source": [
    "# Adding a constant variable \n",
    "import statsmodels.api as sm  \n",
    "X_train_rfe = sm.add_constant(X_train_rfe)"
   ]
  },
  {
   "cell_type": "code",
   "execution_count": 140,
   "metadata": {
    "execution": {
     "iopub.execute_input": "2020-10-07T04:57:07.914876Z",
     "iopub.status.busy": "2020-10-07T04:57:07.913731Z",
     "iopub.status.idle": "2020-10-07T04:57:07.919744Z",
     "shell.execute_reply": "2020-10-07T04:57:07.918957Z"
    },
    "papermill": {
     "duration": 0.150234,
     "end_time": "2020-10-07T04:57:07.919942",
     "exception": false,
     "start_time": "2020-10-07T04:57:07.769708",
     "status": "completed"
    },
    "tags": []
   },
   "outputs": [],
   "source": [
    "lm = sm.OLS(y_train,X_train_rfe).fit()   # Running the linear model"
   ]
  },
  {
   "cell_type": "code",
   "execution_count": 141,
   "metadata": {
    "execution": {
     "iopub.execute_input": "2020-10-07T04:57:08.192439Z",
     "iopub.status.busy": "2020-10-07T04:57:08.191662Z",
     "iopub.status.idle": "2020-10-07T04:57:08.219726Z",
     "shell.execute_reply": "2020-10-07T04:57:08.219022Z"
    },
    "papermill": {
     "duration": 0.166797,
     "end_time": "2020-10-07T04:57:08.219863",
     "exception": false,
     "start_time": "2020-10-07T04:57:08.053066",
     "status": "completed"
    },
    "tags": []
   },
   "outputs": [
    {
     "data": {
      "text/html": [
       "<table class=\"simpletable\">\n",
       "<caption>OLS Regression Results</caption>\n",
       "<tr>\n",
       "  <th>Dep. Variable:</th>          <td>count</td>      <th>  R-squared:         </th> <td>   0.816</td> \n",
       "</tr>\n",
       "<tr>\n",
       "  <th>Model:</th>                   <td>OLS</td>       <th>  Adj. R-squared:    </th> <td>   0.812</td> \n",
       "</tr>\n",
       "<tr>\n",
       "  <th>Method:</th>             <td>Least Squares</td>  <th>  F-statistic:       </th> <td>   221.2</td> \n",
       "</tr>\n",
       "<tr>\n",
       "  <th>Date:</th>             <td>Mon, 28 Dec 2020</td> <th>  Prob (F-statistic):</th> <td>3.16e-176</td>\n",
       "</tr>\n",
       "<tr>\n",
       "  <th>Time:</th>                 <td>23:31:10</td>     <th>  Log-Likelihood:    </th> <td> -292.12</td> \n",
       "</tr>\n",
       "<tr>\n",
       "  <th>No. Observations:</th>      <td>   510</td>      <th>  AIC:               </th> <td>   606.2</td> \n",
       "</tr>\n",
       "<tr>\n",
       "  <th>Df Residuals:</th>          <td>   499</td>      <th>  BIC:               </th> <td>   652.8</td> \n",
       "</tr>\n",
       "<tr>\n",
       "  <th>Df Model:</th>              <td>    10</td>      <th>                     </th>     <td> </td>    \n",
       "</tr>\n",
       "<tr>\n",
       "  <th>Covariance Type:</th>      <td>nonrobust</td>    <th>                     </th>     <td> </td>    \n",
       "</tr>\n",
       "</table>\n",
       "<table class=\"simpletable\">\n",
       "<tr>\n",
       "       <td></td>          <th>coef</th>     <th>std err</th>      <th>t</th>      <th>P>|t|</th>  <th>[0.025</th>    <th>0.975]</th>  \n",
       "</tr>\n",
       "<tr>\n",
       "  <th>const</th>       <td>   -0.5893</td> <td>    0.136</td> <td>   -4.340</td> <td> 0.000</td> <td>   -0.856</td> <td>   -0.323</td>\n",
       "</tr>\n",
       "<tr>\n",
       "  <th>temp</th>        <td>    0.4029</td> <td>    0.027</td> <td>   14.765</td> <td> 0.000</td> <td>    0.349</td> <td>    0.457</td>\n",
       "</tr>\n",
       "<tr>\n",
       "  <th>year</th>        <td>    1.0473</td> <td>    0.039</td> <td>   27.009</td> <td> 0.000</td> <td>    0.971</td> <td>    1.123</td>\n",
       "</tr>\n",
       "<tr>\n",
       "  <th>spring</th>      <td>   -0.6760</td> <td>    0.057</td> <td>  -11.825</td> <td> 0.000</td> <td>   -0.788</td> <td>   -0.564</td>\n",
       "</tr>\n",
       "<tr>\n",
       "  <th>working_day</th> <td>    0.3710</td> <td>    0.134</td> <td>    2.777</td> <td> 0.006</td> <td>    0.109</td> <td>    0.633</td>\n",
       "</tr>\n",
       "<tr>\n",
       "  <th>Light Snow</th>  <td>   -1.2971</td> <td>    0.116</td> <td>  -11.212</td> <td> 0.000</td> <td>   -1.524</td> <td>   -1.070</td>\n",
       "</tr>\n",
       "<tr>\n",
       "  <th>Mist</th>        <td>   -0.3619</td> <td>    0.041</td> <td>   -8.739</td> <td> 0.000</td> <td>   -0.443</td> <td>   -0.281</td>\n",
       "</tr>\n",
       "<tr>\n",
       "  <th>July</th>        <td>   -0.3136</td> <td>    0.082</td> <td>   -3.834</td> <td> 0.000</td> <td>   -0.474</td> <td>   -0.153</td>\n",
       "</tr>\n",
       "<tr>\n",
       "  <th>Sep</th>         <td>    0.2874</td> <td>    0.074</td> <td>    3.884</td> <td> 0.000</td> <td>    0.142</td> <td>    0.433</td>\n",
       "</tr>\n",
       "<tr>\n",
       "  <th>Mon</th>         <td>    0.4613</td> <td>    0.142</td> <td>    3.259</td> <td> 0.001</td> <td>    0.183</td> <td>    0.739</td>\n",
       "</tr>\n",
       "<tr>\n",
       "  <th>Sun</th>         <td>    0.4451</td> <td>    0.142</td> <td>    3.131</td> <td> 0.002</td> <td>    0.166</td> <td>    0.724</td>\n",
       "</tr>\n",
       "</table>\n",
       "<table class=\"simpletable\">\n",
       "<tr>\n",
       "  <th>Omnibus:</th>       <td>59.984</td> <th>  Durbin-Watson:     </th> <td>   2.027</td>\n",
       "</tr>\n",
       "<tr>\n",
       "  <th>Prob(Omnibus):</th> <td> 0.000</td> <th>  Jarque-Bera (JB):  </th> <td> 132.927</td>\n",
       "</tr>\n",
       "<tr>\n",
       "  <th>Skew:</th>          <td>-0.645</td> <th>  Prob(JB):          </th> <td>1.37e-29</td>\n",
       "</tr>\n",
       "<tr>\n",
       "  <th>Kurtosis:</th>      <td> 5.143</td> <th>  Cond. No.          </th> <td>    20.0</td>\n",
       "</tr>\n",
       "</table><br/><br/>Warnings:<br/>[1] Standard Errors assume that the covariance matrix of the errors is correctly specified."
      ],
      "text/plain": [
       "<class 'statsmodels.iolib.summary.Summary'>\n",
       "\"\"\"\n",
       "                            OLS Regression Results                            \n",
       "==============================================================================\n",
       "Dep. Variable:                  count   R-squared:                       0.816\n",
       "Model:                            OLS   Adj. R-squared:                  0.812\n",
       "Method:                 Least Squares   F-statistic:                     221.2\n",
       "Date:                Mon, 28 Dec 2020   Prob (F-statistic):          3.16e-176\n",
       "Time:                        23:31:10   Log-Likelihood:                -292.12\n",
       "No. Observations:                 510   AIC:                             606.2\n",
       "Df Residuals:                     499   BIC:                             652.8\n",
       "Df Model:                          10                                         \n",
       "Covariance Type:            nonrobust                                         \n",
       "===============================================================================\n",
       "                  coef    std err          t      P>|t|      [0.025      0.975]\n",
       "-------------------------------------------------------------------------------\n",
       "const          -0.5893      0.136     -4.340      0.000      -0.856      -0.323\n",
       "temp            0.4029      0.027     14.765      0.000       0.349       0.457\n",
       "year            1.0473      0.039     27.009      0.000       0.971       1.123\n",
       "spring         -0.6760      0.057    -11.825      0.000      -0.788      -0.564\n",
       "working_day     0.3710      0.134      2.777      0.006       0.109       0.633\n",
       "Light Snow     -1.2971      0.116    -11.212      0.000      -1.524      -1.070\n",
       "Mist           -0.3619      0.041     -8.739      0.000      -0.443      -0.281\n",
       "July           -0.3136      0.082     -3.834      0.000      -0.474      -0.153\n",
       "Sep             0.2874      0.074      3.884      0.000       0.142       0.433\n",
       "Mon             0.4613      0.142      3.259      0.001       0.183       0.739\n",
       "Sun             0.4451      0.142      3.131      0.002       0.166       0.724\n",
       "==============================================================================\n",
       "Omnibus:                       59.984   Durbin-Watson:                   2.027\n",
       "Prob(Omnibus):                  0.000   Jarque-Bera (JB):              132.927\n",
       "Skew:                          -0.645   Prob(JB):                     1.37e-29\n",
       "Kurtosis:                       5.143   Cond. No.                         20.0\n",
       "==============================================================================\n",
       "\n",
       "Warnings:\n",
       "[1] Standard Errors assume that the covariance matrix of the errors is correctly specified.\n",
       "\"\"\""
      ]
     },
     "execution_count": 141,
     "metadata": {},
     "output_type": "execute_result"
    }
   ],
   "source": [
    "lm.summary()"
   ]
  },
  {
   "cell_type": "markdown",
   "metadata": {
    "papermill": {
     "duration": 0.138466,
     "end_time": "2020-10-07T04:57:08.488664",
     "exception": false,
     "start_time": "2020-10-07T04:57:08.350198",
     "status": "completed"
    },
    "tags": []
   },
   "source": [
    "### Dropping Mon as it is insignificant."
   ]
  },
  {
   "cell_type": "code",
   "execution_count": 142,
   "metadata": {
    "execution": {
     "iopub.execute_input": "2020-10-07T04:57:08.761411Z",
     "iopub.status.busy": "2020-10-07T04:57:08.757787Z",
     "iopub.status.idle": "2020-10-07T04:57:08.765254Z",
     "shell.execute_reply": "2020-10-07T04:57:08.764610Z"
    },
    "papermill": {
     "duration": 0.145841,
     "end_time": "2020-10-07T04:57:08.765376",
     "exception": false,
     "start_time": "2020-10-07T04:57:08.619535",
     "status": "completed"
    },
    "tags": []
   },
   "outputs": [],
   "source": [
    "X_train1= X_train_rfe.drop('Mon',1)"
   ]
  },
  {
   "cell_type": "code",
   "execution_count": 143,
   "metadata": {
    "execution": {
     "iopub.execute_input": "2020-10-07T04:57:09.040837Z",
     "iopub.status.busy": "2020-10-07T04:57:09.039939Z",
     "iopub.status.idle": "2020-10-07T04:57:09.045922Z",
     "shell.execute_reply": "2020-10-07T04:57:09.045256Z"
    },
    "papermill": {
     "duration": 0.150224,
     "end_time": "2020-10-07T04:57:09.046064",
     "exception": false,
     "start_time": "2020-10-07T04:57:08.895840",
     "status": "completed"
    },
    "tags": []
   },
   "outputs": [],
   "source": [
    "X_train2= sm.add_constant(X_train1)\n",
    "lm1 = sm.OLS(y_train,X_train2).fit() "
   ]
  },
  {
   "cell_type": "code",
   "execution_count": 144,
   "metadata": {
    "execution": {
     "iopub.execute_input": "2020-10-07T04:57:09.321633Z",
     "iopub.status.busy": "2020-10-07T04:57:09.320624Z",
     "iopub.status.idle": "2020-10-07T04:57:09.348682Z",
     "shell.execute_reply": "2020-10-07T04:57:09.347985Z"
    },
    "papermill": {
     "duration": 0.168408,
     "end_time": "2020-10-07T04:57:09.348813",
     "exception": false,
     "start_time": "2020-10-07T04:57:09.180405",
     "status": "completed"
    },
    "tags": []
   },
   "outputs": [
    {
     "data": {
      "text/html": [
       "<table class=\"simpletable\">\n",
       "<caption>OLS Regression Results</caption>\n",
       "<tr>\n",
       "  <th>Dep. Variable:</th>          <td>count</td>      <th>  R-squared:         </th> <td>   0.812</td> \n",
       "</tr>\n",
       "<tr>\n",
       "  <th>Model:</th>                   <td>OLS</td>       <th>  Adj. R-squared:    </th> <td>   0.809</td> \n",
       "</tr>\n",
       "<tr>\n",
       "  <th>Method:</th>             <td>Least Squares</td>  <th>  F-statistic:       </th> <td>   239.9</td> \n",
       "</tr>\n",
       "<tr>\n",
       "  <th>Date:</th>             <td>Mon, 28 Dec 2020</td> <th>  Prob (F-statistic):</th> <td>3.73e-175</td>\n",
       "</tr>\n",
       "<tr>\n",
       "  <th>Time:</th>                 <td>23:31:16</td>     <th>  Log-Likelihood:    </th> <td> -297.49</td> \n",
       "</tr>\n",
       "<tr>\n",
       "  <th>No. Observations:</th>      <td>   510</td>      <th>  AIC:               </th> <td>   615.0</td> \n",
       "</tr>\n",
       "<tr>\n",
       "  <th>Df Residuals:</th>          <td>   500</td>      <th>  BIC:               </th> <td>   657.3</td> \n",
       "</tr>\n",
       "<tr>\n",
       "  <th>Df Model:</th>              <td>     9</td>      <th>                     </th>     <td> </td>    \n",
       "</tr>\n",
       "<tr>\n",
       "  <th>Covariance Type:</th>      <td>nonrobust</td>    <th>                     </th>     <td> </td>    \n",
       "</tr>\n",
       "</table>\n",
       "<table class=\"simpletable\">\n",
       "<tr>\n",
       "       <td></td>          <th>coef</th>     <th>std err</th>      <th>t</th>      <th>P>|t|</th>  <th>[0.025</th>    <th>0.975]</th>  \n",
       "</tr>\n",
       "<tr>\n",
       "  <th>const</th>       <td>   -0.1902</td> <td>    0.059</td> <td>   -3.212</td> <td> 0.001</td> <td>   -0.307</td> <td>   -0.074</td>\n",
       "</tr>\n",
       "<tr>\n",
       "  <th>temp</th>        <td>    0.4042</td> <td>    0.028</td> <td>   14.673</td> <td> 0.000</td> <td>    0.350</td> <td>    0.458</td>\n",
       "</tr>\n",
       "<tr>\n",
       "  <th>year</th>        <td>    1.0463</td> <td>    0.039</td> <td>   26.730</td> <td> 0.000</td> <td>    0.969</td> <td>    1.123</td>\n",
       "</tr>\n",
       "<tr>\n",
       "  <th>spring</th>      <td>   -0.6842</td> <td>    0.058</td> <td>  -11.865</td> <td> 0.000</td> <td>   -0.797</td> <td>   -0.571</td>\n",
       "</tr>\n",
       "<tr>\n",
       "  <th>working_day</th> <td>   -0.0278</td> <td>    0.054</td> <td>   -0.514</td> <td> 0.607</td> <td>   -0.134</td> <td>    0.078</td>\n",
       "</tr>\n",
       "<tr>\n",
       "  <th>Light Snow</th>  <td>   -1.2901</td> <td>    0.117</td> <td>  -11.047</td> <td> 0.000</td> <td>   -1.519</td> <td>   -1.061</td>\n",
       "</tr>\n",
       "<tr>\n",
       "  <th>Mist</th>        <td>   -0.3544</td> <td>    0.042</td> <td>   -8.490</td> <td> 0.000</td> <td>   -0.436</td> <td>   -0.272</td>\n",
       "</tr>\n",
       "<tr>\n",
       "  <th>July</th>        <td>   -0.3052</td> <td>    0.083</td> <td>   -3.698</td> <td> 0.000</td> <td>   -0.467</td> <td>   -0.143</td>\n",
       "</tr>\n",
       "<tr>\n",
       "  <th>Sep</th>         <td>    0.2731</td> <td>    0.075</td> <td>    3.662</td> <td> 0.000</td> <td>    0.127</td> <td>    0.420</td>\n",
       "</tr>\n",
       "<tr>\n",
       "  <th>Sun</th>         <td>    0.0459</td> <td>    0.073</td> <td>    0.630</td> <td> 0.529</td> <td>   -0.097</td> <td>    0.189</td>\n",
       "</tr>\n",
       "</table>\n",
       "<table class=\"simpletable\">\n",
       "<tr>\n",
       "  <th>Omnibus:</th>       <td>60.871</td> <th>  Durbin-Watson:     </th> <td>   2.002</td>\n",
       "</tr>\n",
       "<tr>\n",
       "  <th>Prob(Omnibus):</th> <td> 0.000</td> <th>  Jarque-Bera (JB):  </th> <td> 140.020</td>\n",
       "</tr>\n",
       "<tr>\n",
       "  <th>Skew:</th>          <td>-0.641</td> <th>  Prob(JB):          </th> <td>3.94e-31</td>\n",
       "</tr>\n",
       "<tr>\n",
       "  <th>Kurtosis:</th>      <td> 5.224</td> <th>  Cond. No.          </th> <td>    8.72</td>\n",
       "</tr>\n",
       "</table><br/><br/>Warnings:<br/>[1] Standard Errors assume that the covariance matrix of the errors is correctly specified."
      ],
      "text/plain": [
       "<class 'statsmodels.iolib.summary.Summary'>\n",
       "\"\"\"\n",
       "                            OLS Regression Results                            \n",
       "==============================================================================\n",
       "Dep. Variable:                  count   R-squared:                       0.812\n",
       "Model:                            OLS   Adj. R-squared:                  0.809\n",
       "Method:                 Least Squares   F-statistic:                     239.9\n",
       "Date:                Mon, 28 Dec 2020   Prob (F-statistic):          3.73e-175\n",
       "Time:                        23:31:16   Log-Likelihood:                -297.49\n",
       "No. Observations:                 510   AIC:                             615.0\n",
       "Df Residuals:                     500   BIC:                             657.3\n",
       "Df Model:                           9                                         \n",
       "Covariance Type:            nonrobust                                         \n",
       "===============================================================================\n",
       "                  coef    std err          t      P>|t|      [0.025      0.975]\n",
       "-------------------------------------------------------------------------------\n",
       "const          -0.1902      0.059     -3.212      0.001      -0.307      -0.074\n",
       "temp            0.4042      0.028     14.673      0.000       0.350       0.458\n",
       "year            1.0463      0.039     26.730      0.000       0.969       1.123\n",
       "spring         -0.6842      0.058    -11.865      0.000      -0.797      -0.571\n",
       "working_day    -0.0278      0.054     -0.514      0.607      -0.134       0.078\n",
       "Light Snow     -1.2901      0.117    -11.047      0.000      -1.519      -1.061\n",
       "Mist           -0.3544      0.042     -8.490      0.000      -0.436      -0.272\n",
       "July           -0.3052      0.083     -3.698      0.000      -0.467      -0.143\n",
       "Sep             0.2731      0.075      3.662      0.000       0.127       0.420\n",
       "Sun             0.0459      0.073      0.630      0.529      -0.097       0.189\n",
       "==============================================================================\n",
       "Omnibus:                       60.871   Durbin-Watson:                   2.002\n",
       "Prob(Omnibus):                  0.000   Jarque-Bera (JB):              140.020\n",
       "Skew:                          -0.641   Prob(JB):                     3.94e-31\n",
       "Kurtosis:                       5.224   Cond. No.                         8.72\n",
       "==============================================================================\n",
       "\n",
       "Warnings:\n",
       "[1] Standard Errors assume that the covariance matrix of the errors is correctly specified.\n",
       "\"\"\""
      ]
     },
     "execution_count": 144,
     "metadata": {},
     "output_type": "execute_result"
    }
   ],
   "source": [
    "lm1.summary()"
   ]
  },
  {
   "cell_type": "markdown",
   "metadata": {
    "papermill": {
     "duration": 0.134609,
     "end_time": "2020-10-07T04:57:09.616251",
     "exception": false,
     "start_time": "2020-10-07T04:57:09.481642",
     "status": "completed"
    },
    "tags": []
   },
   "source": [
    "### Now we have all the variables with p-value less than 0.05."
   ]
  },
  {
   "cell_type": "code",
   "execution_count": 145,
   "metadata": {
    "execution": {
     "iopub.execute_input": "2020-10-07T04:57:09.890243Z",
     "iopub.status.busy": "2020-10-07T04:57:09.889495Z",
     "iopub.status.idle": "2020-10-07T04:57:09.893163Z",
     "shell.execute_reply": "2020-10-07T04:57:09.892427Z"
    },
    "papermill": {
     "duration": 0.143501,
     "end_time": "2020-10-07T04:57:09.893350",
     "exception": false,
     "start_time": "2020-10-07T04:57:09.749849",
     "status": "completed"
    },
    "tags": []
   },
   "outputs": [],
   "source": [
    "X_train_new= X_train2.drop('const',axis=1)"
   ]
  },
  {
   "cell_type": "markdown",
   "metadata": {
    "papermill": {
     "duration": 0.135512,
     "end_time": "2020-10-07T04:57:10.162397",
     "exception": false,
     "start_time": "2020-10-07T04:57:10.026885",
     "status": "completed"
    },
    "tags": []
   },
   "source": [
    "### Variance Inflation Factor(VIF)"
   ]
  },
  {
   "cell_type": "code",
   "execution_count": 146,
   "metadata": {
    "execution": {
     "iopub.execute_input": "2020-10-07T04:57:10.438167Z",
     "iopub.status.busy": "2020-10-07T04:57:10.437153Z",
     "iopub.status.idle": "2020-10-07T04:57:10.471354Z",
     "shell.execute_reply": "2020-10-07T04:57:10.470767Z"
    },
    "papermill": {
     "duration": 0.175049,
     "end_time": "2020-10-07T04:57:10.471506",
     "exception": false,
     "start_time": "2020-10-07T04:57:10.296457",
     "status": "completed"
    },
    "tags": []
   },
   "outputs": [
    {
     "data": {
      "text/html": [
       "<div>\n",
       "<style scoped>\n",
       "    .dataframe tbody tr th:only-of-type {\n",
       "        vertical-align: middle;\n",
       "    }\n",
       "\n",
       "    .dataframe tbody tr th {\n",
       "        vertical-align: top;\n",
       "    }\n",
       "\n",
       "    .dataframe thead th {\n",
       "        text-align: right;\n",
       "    }\n",
       "</style>\n",
       "<table border=\"1\" class=\"dataframe\">\n",
       "  <thead>\n",
       "    <tr style=\"text-align: right;\">\n",
       "      <th></th>\n",
       "      <th>Features</th>\n",
       "      <th>VIF</th>\n",
       "    </tr>\n",
       "  </thead>\n",
       "  <tbody>\n",
       "    <tr>\n",
       "      <th>3</th>\n",
       "      <td>working_day</td>\n",
       "      <td>2.14</td>\n",
       "    </tr>\n",
       "    <tr>\n",
       "      <th>0</th>\n",
       "      <td>temp</td>\n",
       "      <td>2.01</td>\n",
       "    </tr>\n",
       "    <tr>\n",
       "      <th>2</th>\n",
       "      <td>spring</td>\n",
       "      <td>2.00</td>\n",
       "    </tr>\n",
       "    <tr>\n",
       "      <th>1</th>\n",
       "      <td>year</td>\n",
       "      <td>1.81</td>\n",
       "    </tr>\n",
       "    <tr>\n",
       "      <th>5</th>\n",
       "      <td>Mist</td>\n",
       "      <td>1.44</td>\n",
       "    </tr>\n",
       "    <tr>\n",
       "      <th>6</th>\n",
       "      <td>July</td>\n",
       "      <td>1.35</td>\n",
       "    </tr>\n",
       "    <tr>\n",
       "      <th>8</th>\n",
       "      <td>Sun</td>\n",
       "      <td>1.24</td>\n",
       "    </tr>\n",
       "    <tr>\n",
       "      <th>7</th>\n",
       "      <td>Sep</td>\n",
       "      <td>1.16</td>\n",
       "    </tr>\n",
       "    <tr>\n",
       "      <th>4</th>\n",
       "      <td>Light Snow</td>\n",
       "      <td>1.06</td>\n",
       "    </tr>\n",
       "  </tbody>\n",
       "</table>\n",
       "</div>"
      ],
      "text/plain": [
       "      Features   VIF\n",
       "3  working_day  2.14\n",
       "0         temp  2.01\n",
       "2       spring  2.00\n",
       "1         year  1.81\n",
       "5         Mist  1.44\n",
       "6         July  1.35\n",
       "8          Sun  1.24\n",
       "7          Sep  1.16\n",
       "4   Light Snow  1.06"
      ]
     },
     "execution_count": 146,
     "metadata": {},
     "output_type": "execute_result"
    }
   ],
   "source": [
    "from statsmodels.stats.outliers_influence import variance_inflation_factor\n",
    "\n",
    "vif = pd.DataFrame()\n",
    "X = X_train_new\n",
    "vif['Features'] = X.columns\n",
    "vif['VIF'] = [variance_inflation_factor(X.values, i) for i in range(X.shape[1])]\n",
    "vif['VIF'] = round(vif['VIF'], 2)\n",
    "vif = vif.sort_values(by = \"VIF\", ascending = False)\n",
    "vif"
   ]
  },
  {
   "cell_type": "markdown",
   "metadata": {
    "papermill": {
     "duration": 0.134071,
     "end_time": "2020-10-07T04:57:10.742228",
     "exception": false,
     "start_time": "2020-10-07T04:57:10.608157",
     "status": "completed"
    },
    "tags": []
   },
   "source": [
    "### All the variables have VIF less than 5 and it's perfect!"
   ]
  },
  {
   "cell_type": "markdown",
   "metadata": {
    "papermill": {
     "duration": 0.133937,
     "end_time": "2020-10-07T04:57:11.010447",
     "exception": false,
     "start_time": "2020-10-07T04:57:10.876510",
     "status": "completed"
    },
    "tags": []
   },
   "source": [
    "## Step 7: Residual Analysis of the train data"
   ]
  },
  {
   "cell_type": "code",
   "execution_count": 147,
   "metadata": {
    "execution": {
     "iopub.execute_input": "2020-10-07T04:57:11.289397Z",
     "iopub.status.busy": "2020-10-07T04:57:11.288574Z",
     "iopub.status.idle": "2020-10-07T04:57:11.292976Z",
     "shell.execute_reply": "2020-10-07T04:57:11.292293Z"
    },
    "papermill": {
     "duration": 0.147045,
     "end_time": "2020-10-07T04:57:11.293116",
     "exception": false,
     "start_time": "2020-10-07T04:57:11.146071",
     "status": "completed"
    },
    "tags": []
   },
   "outputs": [],
   "source": [
    "y_train_pred = lm1.predict(X_train2)"
   ]
  },
  {
   "cell_type": "code",
   "execution_count": 148,
   "metadata": {
    "execution": {
     "iopub.execute_input": "2020-10-07T04:57:11.576386Z",
     "iopub.status.busy": "2020-10-07T04:57:11.568328Z",
     "iopub.status.idle": "2020-10-07T04:57:11.909363Z",
     "shell.execute_reply": "2020-10-07T04:57:11.908668Z"
    },
    "papermill": {
     "duration": 0.482712,
     "end_time": "2020-10-07T04:57:11.909507",
     "exception": false,
     "start_time": "2020-10-07T04:57:11.426795",
     "status": "completed"
    },
    "tags": []
   },
   "outputs": [
    {
     "data": {
      "text/plain": [
       "Text(0.5, 0, 'Errors')"
      ]
     },
     "execution_count": 148,
     "metadata": {},
     "output_type": "execute_result"
    },
    {
     "data": {
      "image/png": "[encoded data removed]",
      "text/plain": [
       "<Figure size 432x288 with 1 Axes>"
      ]
     },
     "metadata": {},
     "output_type": "display_data"
    }
   ],
   "source": [
    "fig = plt.figure()\n",
    "sns.distplot((y_train - y_train_pred), bins = 20)\n",
    "fig.suptitle('Error Terms', fontsize = 20)                  # Plot heading \n",
    "plt.xlabel('Errors', fontsize = 18)     "
   ]
  },
  {
   "cell_type": "markdown",
   "metadata": {
    "papermill": {
     "duration": 0.1364,
     "end_time": "2020-10-07T04:57:12.180317",
     "exception": false,
     "start_time": "2020-10-07T04:57:12.043917",
     "status": "completed"
    },
    "tags": []
   },
   "source": [
    "## Step 8: Making Predictions"
   ]
  },
  {
   "cell_type": "code",
   "execution_count": 149,
   "metadata": {
    "execution": {
     "iopub.execute_input": "2020-10-07T04:57:12.469072Z",
     "iopub.status.busy": "2020-10-07T04:57:12.468235Z",
     "iopub.status.idle": "2020-10-07T04:57:12.472313Z",
     "shell.execute_reply": "2020-10-07T04:57:12.471571Z"
    },
    "papermill": {
     "duration": 0.153539,
     "end_time": "2020-10-07T04:57:12.472446",
     "exception": false,
     "start_time": "2020-10-07T04:57:12.318907",
     "status": "completed"
    },
    "tags": []
   },
   "outputs": [],
   "source": [
    "num_vars=['temp','humidity','windspeed','count']\n",
    "\n",
    "df_test[num_vars]= scaler.transform(df_test[num_vars])"
   ]
  },
  {
   "cell_type": "markdown",
   "metadata": {
    "papermill": {
     "duration": 0.134482,
     "end_time": "2020-10-07T04:57:12.742405",
     "exception": false,
     "start_time": "2020-10-07T04:57:12.607923",
     "status": "completed"
    },
    "tags": []
   },
   "source": [
    "### Dividing into X_test and y_test"
   ]
  },
  {
   "cell_type": "code",
   "execution_count": 150,
   "metadata": {
    "execution": {
     "iopub.execute_input": "2020-10-07T04:57:13.020459Z",
     "iopub.status.busy": "2020-10-07T04:57:13.019623Z",
     "iopub.status.idle": "2020-10-07T04:57:13.023765Z",
     "shell.execute_reply": "2020-10-07T04:57:13.022948Z"
    },
    "papermill": {
     "duration": 0.14701,
     "end_time": "2020-10-07T04:57:13.023911",
     "exception": false,
     "start_time": "2020-10-07T04:57:12.876901",
     "status": "completed"
    },
    "tags": []
   },
   "outputs": [],
   "source": [
    "y_test = df_test.pop('count')\n",
    "X_test = df_test"
   ]
  },
  {
   "cell_type": "code",
   "execution_count": 151,
   "metadata": {
    "execution": {
     "iopub.execute_input": "2020-10-07T04:57:13.314672Z",
     "iopub.status.busy": "2020-10-07T04:57:13.313457Z",
     "iopub.status.idle": "2020-10-07T04:57:13.318080Z",
     "shell.execute_reply": "2020-10-07T04:57:13.317127Z"
    },
    "papermill": {
     "duration": 0.155954,
     "end_time": "2020-10-07T04:57:13.318242",
     "exception": false,
     "start_time": "2020-10-07T04:57:13.162288",
     "status": "completed"
    },
    "tags": []
   },
   "outputs": [],
   "source": [
    "# Now let's use our model to make predictions.\n",
    "\n",
    "# Creating X_test_new dataframe by dropping variables from X_test\n",
    "X_test_new = X_test[X_train_new.columns]\n",
    "\n",
    "# Adding a constant variable \n",
    "X_test_new = sm.add_constant(X_test_new)"
   ]
  },
  {
   "cell_type": "code",
   "execution_count": 152,
   "metadata": {
    "execution": {
     "iopub.execute_input": "2020-10-07T04:57:13.599782Z",
     "iopub.status.busy": "2020-10-07T04:57:13.598745Z",
     "iopub.status.idle": "2020-10-07T04:57:13.602757Z",
     "shell.execute_reply": "2020-10-07T04:57:13.601911Z"
    },
    "papermill": {
     "duration": 0.147654,
     "end_time": "2020-10-07T04:57:13.602908",
     "exception": false,
     "start_time": "2020-10-07T04:57:13.455254",
     "status": "completed"
    },
    "tags": []
   },
   "outputs": [],
   "source": [
    "# Making predictions\n",
    "y_test_pred = lm1.predict(X_test_new)"
   ]
  },
  {
   "cell_type": "markdown",
   "metadata": {
    "papermill": {
     "duration": 0.140407,
     "end_time": "2020-10-07T04:57:13.881656",
     "exception": false,
     "start_time": "2020-10-07T04:57:13.741249",
     "status": "completed"
    },
    "tags": []
   },
   "source": [
    "## Step 9: Model Evaluation"
   ]
  },
  {
   "cell_type": "code",
   "execution_count": 153,
   "metadata": {
    "execution": {
     "iopub.execute_input": "2020-10-07T04:57:14.168737Z",
     "iopub.status.busy": "2020-10-07T04:57:14.167923Z",
     "iopub.status.idle": "2020-10-07T04:57:14.569061Z",
     "shell.execute_reply": "2020-10-07T04:57:14.568267Z"
    },
    "papermill": {
     "duration": 0.551323,
     "end_time": "2020-10-07T04:57:14.569201",
     "exception": false,
     "start_time": "2020-10-07T04:57:14.017878",
     "status": "completed"
    },
    "tags": []
   },
   "outputs": [
    {
     "data": {
      "text/plain": [
       "Text(0, 0.5, 'Predictions')"
      ]
     },
     "execution_count": 153,
     "metadata": {},
     "output_type": "execute_result"
    },
    {
     "data": {
      "image/png": "[encoded data removed]",
      "text/plain": [
       "<Figure size 432x288 with 1 Axes>"
      ]
     },
     "metadata": {},
     "output_type": "display_data"
    }
   ],
   "source": [
    "# Plotting y_test and y_pred to understand the spread.\n",
    "fig = plt.figure()\n",
    "plt.scatter(y_test,y_test_pred)\n",
    "fig.suptitle('Actual vs Predictions', fontsize=20)              # Plot heading \n",
    "plt.xlabel('Actual', fontsize=18)                          # X-label\n",
    "plt.ylabel('Predictions', fontsize=16)                          # Y-label"
   ]
  },
  {
   "cell_type": "code",
   "execution_count": 154,
   "metadata": {
    "execution": {
     "iopub.execute_input": "2020-10-07T04:57:14.856908Z",
     "iopub.status.busy": "2020-10-07T04:57:14.855811Z",
     "iopub.status.idle": "2020-10-07T04:57:14.860465Z",
     "shell.execute_reply": "2020-10-07T04:57:14.861095Z"
    },
    "papermill": {
     "duration": 0.151228,
     "end_time": "2020-10-07T04:57:14.861265",
     "exception": false,
     "start_time": "2020-10-07T04:57:14.710037",
     "status": "completed"
    },
    "tags": []
   },
   "outputs": [
    {
     "data": {
      "text/plain": [
       "0.8035305530955212"
      ]
     },
     "execution_count": 154,
     "metadata": {},
     "output_type": "execute_result"
    }
   ],
   "source": [
    "from sklearn.metrics import r2_score\n",
    "r2_score(y_test, y_test_pred)"
   ]
  },
  {
   "cell_type": "markdown",
   "metadata": {
    "papermill": {
     "duration": 0.139214,
     "end_time": "2020-10-07T04:57:15.139609",
     "exception": false,
     "start_time": "2020-10-07T04:57:15.000395",
     "status": "completed"
    },
    "tags": []
   },
   "source": [
    "## Conclusion:\n",
    "    \n",
    "**The top 5 variables that are seen effecting and benefitting the Bike Rental count are as follows:**\n",
    "\n",
    "* Spring season : -0.6842\n",
    "* Temperature   :  0.3999\n",
    "* Mist\t        : -0.3647\n",
    "* Sun\t        :  0.2749\n",
    "* working_day\t:  0.2327"
   ]
  },
  {
   "cell_type": "markdown",
   "metadata": {
    "papermill": {
     "duration": 0.140291,
     "end_time": "2020-10-07T04:57:15.420402",
     "exception": false,
     "start_time": "2020-10-07T04:57:15.280111",
     "status": "completed"
    },
    "tags": []
   },
   "source": [
    "## **Assumptions of Linear Regression:**\n",
    "\n",
    "* The error terms are normally distributed.\n",
    "* The training and testing accuracy are nearly equal hence there is no Overfit/Underfit situation.\n",
    "* The predicted values have linear relationship with the actual values.****"
   ]
  }
 ],
 "metadata": {
  "kernelspec": {
   "display_name": "Python 3",
   "language": "python",
   "name": "python3"
  },
  "language_info": {
   "codemirror_mode": {
    "name": "ipython",
    "version": 3
   },
   "file_extension": ".py",
   "mimetype": "text/x-python",
   "name": "python",
   "nbconvert_exporter": "python",
   "pygments_lexer": "ipython3",
   "version": "3.8.3"
  },
  "papermill": {
   "duration": 53.754359,
   "end_time": "2020-10-07T04:57:15.947196",
   "environment_variables": {},
   "exception": null,
   "input_path": "__notebook__.ipynb",
   "output_path": "__notebook__.ipynb",
   "parameters": {},
   "start_time": "2020-10-07T04:56:22.192837",
   "version": "2.1.0"
  }
 },
 "nbformat": 4,
 "nbformat_minor": 4
}
